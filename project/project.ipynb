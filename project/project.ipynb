{
 "cells": [
  {
   "cell_type": "markdown",
   "metadata": {},
   "source": [
    "### Read data"
   ]
  },
  {
   "cell_type": "code",
   "execution_count": 1,
   "metadata": {},
   "outputs": [
    {
     "name": "stdout",
     "output_type": "stream",
     "text": [
      "<class 'pandas.core.frame.DataFrame'>\n",
      "RangeIndex: 2771 entries, 0 to 2770\n",
      "Data columns (total 5 columns):\n",
      "song      2771 non-null object\n",
      "artist    2771 non-null object\n",
      "lyrics    2771 non-null object\n",
      "year      2692 non-null object\n",
      "mood      2771 non-null object\n",
      "dtypes: object(5)\n",
      "memory usage: 108.3+ KB\n",
      "None\n"
     ]
    }
   ],
   "source": [
    "# read data\n",
    "import pandas as pd \n",
    "happy = pd.read_csv(\"../data/lyrics/happy.csv\")\n",
    "sad = pd.read_csv(\"../data/lyrics/sad.csv\")\n",
    "# print(happy.shape)\n",
    "# print(sad.shape)\n",
    "# happy.head()\n",
    "# sad.head()\n",
    "\n",
    "# combine happy data and sad data\n",
    "df = happy.append(pd.DataFrame(data = sad), ignore_index=True)\n",
    "df = df[['song', 'artist', 'lyrics', 'year', 'mood']] # delete the column of url\n",
    "# print (df.shape)\n",
    "print (df.info())\n",
    "# df.dtypes"
   ]
  },
  {
   "cell_type": "markdown",
   "metadata": {},
   "source": [
    "### Delete non-English lyrics"
   ]
  },
  {
   "cell_type": "code",
   "execution_count": 5,
   "metadata": {},
   "outputs": [
    {
     "name": "stdout",
     "output_type": "stream",
     "text": [
      "42\n",
      "[26, 72, 221, 281, 319, 350, 400, 425, 449, 517, 716, 721, 726, 730, 733, 799, 875, 960, 1027, 1084, 1093, 1109, 1131, 1259, 1344, 1405, 1597, 1603, 1627, 1631, 1634, 1869, 1892, 2216, 2260, 2339, 2428, 2433, 2541, 2637, 2741, 2769]\n"
     ]
    }
   ],
   "source": [
    "# https://stackoverflow.com/questions/2501746/deleting-python-modules\n",
    "# delete non-English lyrics\n",
    "from langdetect import detect\n",
    "# from textblob import TextBlob\n",
    "\n",
    "\n",
    "non_english_index = []\n",
    "\n",
    "for i in range(df.shape[0]):\n",
    "    text = df.iloc[i, 2]\n",
    "#     if TextBlob(text).detect_language() != 'en':\n",
    "    if detect(text) != 'en':\n",
    "        non_english_index.append(i)\n",
    "\n",
    "print(len(non_english_index))\n",
    "print (non_english_index)"
   ]
  },
  {
   "cell_type": "code",
   "execution_count": 6,
   "metadata": {},
   "outputs": [
    {
     "name": "stdout",
     "output_type": "stream",
     "text": [
      "sad      1400\n",
      "happy    1329\n",
      "Name: mood, dtype: int64\n"
     ]
    }
   ],
   "source": [
    "df = df.drop(non_english_index)\n",
    "df = df.reset_index(drop=True)\n",
    "\n",
    "print(df[\"mood\"].value_counts())"
   ]
  },
  {
   "cell_type": "markdown",
   "metadata": {},
   "source": [
    "### Save the Dataframe"
   ]
  },
  {
   "cell_type": "code",
   "execution_count": 21,
   "metadata": {},
   "outputs": [],
   "source": [
    "df.to_csv('../data/clean_songs.csv', index = False)"
   ]
  },
  {
   "cell_type": "markdown",
   "metadata": {},
   "source": [
    "#==============================================================="
   ]
  },
  {
   "cell_type": "markdown",
   "metadata": {},
   "source": [
    "### Read the Data"
   ]
  },
  {
   "cell_type": "code",
   "execution_count": 1,
   "metadata": {},
   "outputs": [
    {
     "name": "stdout",
     "output_type": "stream",
     "text": [
      "sad      1400\n",
      "happy    1329\n",
      "Name: mood, dtype: int64\n"
     ]
    }
   ],
   "source": [
    "import pandas as pd \n",
    "df = pd.read_csv(\"../data/clean_songs.csv\")\n",
    "print(df[\"mood\"].value_counts())\n",
    "\n",
    "happy = df.loc[df['mood'] == 'happy']\n",
    "sad = df.loc[df['mood'] == 'sad']"
   ]
  },
  {
   "cell_type": "code",
   "execution_count": 2,
   "metadata": {},
   "outputs": [
    {
     "data": {
      "text/html": [
       "<div>\n",
       "<style scoped>\n",
       "    .dataframe tbody tr th:only-of-type {\n",
       "        vertical-align: middle;\n",
       "    }\n",
       "\n",
       "    .dataframe tbody tr th {\n",
       "        vertical-align: top;\n",
       "    }\n",
       "\n",
       "    .dataframe thead th {\n",
       "        text-align: right;\n",
       "    }\n",
       "</style>\n",
       "<table border=\"1\" class=\"dataframe\">\n",
       "  <thead>\n",
       "    <tr style=\"text-align: right;\">\n",
       "      <th></th>\n",
       "      <th>song</th>\n",
       "      <th>artist</th>\n",
       "      <th>lyrics</th>\n",
       "      <th>year</th>\n",
       "      <th>mood</th>\n",
       "    </tr>\n",
       "  </thead>\n",
       "  <tbody>\n",
       "    <tr>\n",
       "      <th>0</th>\n",
       "      <td>Yellow Submarine</td>\n",
       "      <td>The Beatles</td>\n",
       "      <td>In the town where I was born\\nLived a man who ...</td>\n",
       "      <td>1966</td>\n",
       "      <td>happy</td>\n",
       "    </tr>\n",
       "    <tr>\n",
       "      <th>1</th>\n",
       "      <td>Dance Dance Dance</td>\n",
       "      <td>Lykke Li</td>\n",
       "      <td>having trouble telling\\nhow i feel\\nbut i can ...</td>\n",
       "      <td>2008</td>\n",
       "      <td>happy</td>\n",
       "    </tr>\n",
       "    <tr>\n",
       "      <th>2</th>\n",
       "      <td>Crazy Little Thing Called Love</td>\n",
       "      <td>Queen</td>\n",
       "      <td>This thing called love\\nI just can't handle it...</td>\n",
       "      <td>1980</td>\n",
       "      <td>happy</td>\n",
       "    </tr>\n",
       "    <tr>\n",
       "      <th>3</th>\n",
       "      <td>Hey Man (Now You're Really Living)</td>\n",
       "      <td>Eels</td>\n",
       "      <td>Do you know what it's like to fall on the floo...</td>\n",
       "      <td>2005</td>\n",
       "      <td>happy</td>\n",
       "    </tr>\n",
       "    <tr>\n",
       "      <th>4</th>\n",
       "      <td>Octopus's Garden</td>\n",
       "      <td>The Beatles</td>\n",
       "      <td>I'd like to be under the sea\\nIn an octopus's ...</td>\n",
       "      <td>1969</td>\n",
       "      <td>happy</td>\n",
       "    </tr>\n",
       "  </tbody>\n",
       "</table>\n",
       "</div>"
      ],
      "text/plain": [
       "                                 song       artist  \\\n",
       "0                    Yellow Submarine  The Beatles   \n",
       "1                   Dance Dance Dance     Lykke Li   \n",
       "2      Crazy Little Thing Called Love        Queen   \n",
       "3  Hey Man (Now You're Really Living)         Eels   \n",
       "4                    Octopus's Garden  The Beatles   \n",
       "\n",
       "                                              lyrics  year   mood  \n",
       "0  In the town where I was born\\nLived a man who ...  1966  happy  \n",
       "1  having trouble telling\\nhow i feel\\nbut i can ...  2008  happy  \n",
       "2  This thing called love\\nI just can't handle it...  1980  happy  \n",
       "3  Do you know what it's like to fall on the floo...  2005  happy  \n",
       "4  I'd like to be under the sea\\nIn an octopus's ...  1969  happy  "
      ]
     },
     "execution_count": 2,
     "metadata": {},
     "output_type": "execute_result"
    }
   ],
   "source": [
    "df.head()"
   ]
  },
  {
   "cell_type": "markdown",
   "metadata": {},
   "source": [
    "### Distribution of years"
   ]
  },
  {
   "cell_type": "code",
   "execution_count": 3,
   "metadata": {},
   "outputs": [
    {
     "data": {
      "text/html": [
       "<div>\n",
       "<style scoped>\n",
       "    .dataframe tbody tr th:only-of-type {\n",
       "        vertical-align: middle;\n",
       "    }\n",
       "\n",
       "    .dataframe tbody tr th {\n",
       "        vertical-align: top;\n",
       "    }\n",
       "\n",
       "    .dataframe thead th {\n",
       "        text-align: right;\n",
       "    }\n",
       "</style>\n",
       "<table border=\"1\" class=\"dataframe\">\n",
       "  <thead>\n",
       "    <tr style=\"text-align: right;\">\n",
       "      <th>mood</th>\n",
       "      <th>happy</th>\n",
       "      <th>sad</th>\n",
       "    </tr>\n",
       "    <tr>\n",
       "      <th>year</th>\n",
       "      <th></th>\n",
       "      <th></th>\n",
       "    </tr>\n",
       "  </thead>\n",
       "  <tbody>\n",
       "    <tr>\n",
       "      <th>1953</th>\n",
       "      <td>0.0</td>\n",
       "      <td>1.0</td>\n",
       "    </tr>\n",
       "    <tr>\n",
       "      <th>1956</th>\n",
       "      <td>0.0</td>\n",
       "      <td>1.0</td>\n",
       "    </tr>\n",
       "    <tr>\n",
       "      <th>1957</th>\n",
       "      <td>2.0</td>\n",
       "      <td>1.0</td>\n",
       "    </tr>\n",
       "    <tr>\n",
       "      <th>1958</th>\n",
       "      <td>3.0</td>\n",
       "      <td>0.0</td>\n",
       "    </tr>\n",
       "    <tr>\n",
       "      <th>1959</th>\n",
       "      <td>1.0</td>\n",
       "      <td>2.0</td>\n",
       "    </tr>\n",
       "  </tbody>\n",
       "</table>\n",
       "</div>"
      ],
      "text/plain": [
       "mood  happy  sad\n",
       "year            \n",
       "1953    0.0  1.0\n",
       "1956    0.0  1.0\n",
       "1957    2.0  1.0\n",
       "1958    3.0  0.0\n",
       "1959    1.0  2.0"
      ]
     },
     "execution_count": 3,
     "metadata": {},
     "output_type": "execute_result"
    }
   ],
   "source": [
    "count = df.groupby([\"year\", \"mood\"]).size().reset_index(name=\"Time\")\n",
    "# print(count.head())\n",
    "count = count.pivot_table(\"Time\", \"year\", \"mood\")\n",
    "count = count.fillna(0) # replace NAN to 0\n",
    "count.head()"
   ]
  },
  {
   "cell_type": "code",
   "execution_count": 5,
   "metadata": {},
   "outputs": [
    {
     "data": {
      "image/png": "[encoded data removed]",
      "text/plain": [
       "<Figure size 1080x360 with 1 Axes>"
      ]
     },
     "metadata": {
      "needs_background": "light"
     },
     "output_type": "display_data"
    }
   ],
   "source": [
    "import matplotlib.pyplot as plt\n",
    "# count.plot.bar(rot=90, figsize=(15,5), subplots=True) # 將 happy和sad分成兩張圖\n",
    "# count.plot.bar(rot=90, figsize=(15,5)) # 不同畫法\n",
    "count.plot(rot=90, figsize=(15,5), kind='bar')\n",
    "plt.title('Number of songs')\n",
    "plt.show()"
   ]
  },
  {
   "cell_type": "markdown",
   "metadata": {},
   "source": [
    "### Split data"
   ]
  },
  {
   "cell_type": "code",
   "execution_count": 2,
   "metadata": {},
   "outputs": [
    {
     "name": "stdout",
     "output_type": "stream",
     "text": [
      "(1910, 5)\n",
      "(819, 5)\n"
     ]
    }
   ],
   "source": [
    "# split data to training and test datasets, 70/30\n",
    "import numpy as np\n",
    "n = len(df)\n",
    "# print (n)\n",
    "np.random.seed(3)\n",
    "idx = np.random.choice(range(n), round(n*0.7), replace=False)\n",
    "minus_idx = np.setdiff1d(range(n), idx)\n",
    "\n",
    "train = df.iloc[idx, ]\n",
    "test = df.iloc[minus_idx, ]\n",
    "print (train.shape)\n",
    "print (test.shape)"
   ]
  },
  {
   "cell_type": "code",
   "execution_count": 3,
   "metadata": {},
   "outputs": [
    {
     "name": "stdout",
     "output_type": "stream",
     "text": [
      "Training data:\n",
      "sad      985\n",
      "happy    925\n",
      "Name: mood, dtype: int64\n",
      "========================\n",
      "Test data:\n",
      "sad      415\n",
      "happy    404\n",
      "Name: mood, dtype: int64\n"
     ]
    }
   ],
   "source": [
    "# the number of moods class in train and test data\n",
    "print (\"Training data:\")\n",
    "print(train[\"mood\"].value_counts())\n",
    "print (\"========================\")\n",
    "print (\"Test data:\")\n",
    "print(test[\"mood\"].value_counts())"
   ]
  },
  {
   "cell_type": "markdown",
   "metadata": {},
   "source": [
    "### Use NLTK pacage"
   ]
  },
  {
   "cell_type": "code",
   "execution_count": 4,
   "metadata": {},
   "outputs": [],
   "source": [
    "# preprocessing\n",
    "import nltk\n",
    "from nltk.stem import WordNetLemmatizer\n",
    "from nltk.corpus import stopwords\n",
    "\n",
    "stop_words = stopwords.words('english')\n",
    "lemmatizer = WordNetLemmatizer()\n",
    "\n",
    "def preprocess(text):\n",
    "    text = nltk.word_tokenize(text)\n",
    "    return [lemmatizer.lemmatize(w).lower() for w in text if lemmatizer.lemmatize(w).lower() not in stop_words and w.isalpha()]"
   ]
  },
  {
   "cell_type": "markdown",
   "metadata": {},
   "source": [
    "### Draw the wordcloud"
   ]
  },
  {
   "cell_type": "code",
   "execution_count": 9,
   "metadata": {},
   "outputs": [
    {
     "data": {
      "image/png": "[encoded data removed]",
      "text/plain": [
       "<Figure size 432x288 with 1 Axes>"
      ]
     },
     "metadata": {
      "needs_background": "light"
     },
     "output_type": "display_data"
    }
   ],
   "source": [
    "import matplotlib.pyplot as plt\n",
    "from wordcloud import WordCloud\n",
    "\n",
    "happy_lyrics = happy.lyrics.values\n",
    "happy_text = \"\"\n",
    "for i in happy_lyrics:\n",
    "    happy_text = happy_text + \" \".join(preprocess(i))\n",
    "\n",
    "wordcloud = WordCloud(background_color=\"black\", width=1000, height=600, margin=1).generate(happy_text) #, collocations=False\n",
    "plt.imshow(wordcloud)\n",
    "plt.axis(\"off\")\n",
    "# plt.show()\n",
    "plt.savefig('happy.png')"
   ]
  },
  {
   "cell_type": "code",
   "execution_count": 10,
   "metadata": {},
   "outputs": [
    {
     "data": {
      "image/png": "[encoded data removed]",
      "text/plain": [
       "<Figure size 432x288 with 1 Axes>"
      ]
     },
     "metadata": {
      "needs_background": "light"
     },
     "output_type": "display_data"
    }
   ],
   "source": [
    "sad_lyrics = sad.lyrics.values\n",
    "sad_text = \"\"\n",
    "for i in sad_lyrics:\n",
    "    sad_text = sad_text + \" \".join(preprocess(i))\n",
    "\n",
    "wordcloud = WordCloud(background_color=\"black\", width=1000, height=600, margin=1).generate(sad_text)\n",
    "plt.imshow(wordcloud)\n",
    "plt.axis(\"off\")\n",
    "# plt.show()\n",
    "plt.savefig('sad.png')"
   ]
  },
  {
   "cell_type": "markdown",
   "metadata": {},
   "source": [
    "## Models"
   ]
  },
  {
   "cell_type": "code",
   "execution_count": 5,
   "metadata": {},
   "outputs": [],
   "source": [
    "from sklearn.pipeline import Pipeline\n",
    "from sklearn.feature_extraction.text import TfidfVectorizer\n",
    "from sklearn.metrics import classification_report\n",
    "from sklearn.model_selection import GridSearchCV\n",
    "from sklearn.metrics import confusion_matrix\n",
    "\n",
    "mood = ['happy', 'sad']"
   ]
  },
  {
   "cell_type": "code",
   "execution_count": 6,
   "metadata": {},
   "outputs": [],
   "source": [
    "# transfer \"happy\" and \"sad\" to 0 and 1\n",
    "\n",
    "y_train = []\n",
    "y_test = []\n",
    "\n",
    "# happy is 0, sad is 1\n",
    "for i in train[\"mood\"].index:\n",
    "    if train[\"mood\"][i] == \"happy\":\n",
    "        y_train.append(0)\n",
    "    else:\n",
    "        y_train.append(1)\n",
    "\n",
    "\n",
    "for i in test[\"mood\"].index:\n",
    "    if test[\"mood\"][i] == \"happy\":\n",
    "        y_test.append(0)\n",
    "    else:\n",
    "        y_test.append(1)\n",
    "\n",
    "# print (y_test)"
   ]
  },
  {
   "cell_type": "markdown",
   "metadata": {},
   "source": [
    "### Classifier - SVM"
   ]
  },
  {
   "cell_type": "code",
   "execution_count": 7,
   "metadata": {},
   "outputs": [
    {
     "name": "stdout",
     "output_type": "stream",
     "text": [
      "Fitting 5 folds for each of 24 candidates, totalling 120 fits\n"
     ]
    },
    {
     "name": "stderr",
     "output_type": "stream",
     "text": [
      "[Parallel(n_jobs=-1)]: Using backend LokyBackend with 4 concurrent workers.\n",
      "[Parallel(n_jobs=-1)]: Done  10 tasks      | elapsed:  1.4min\n",
      "[Parallel(n_jobs=-1)]: Done  64 tasks      | elapsed:  7.1min\n",
      "[Parallel(n_jobs=-1)]: Done 120 out of 120 | elapsed: 13.3min finished\n"
     ]
    },
    {
     "name": "stdout",
     "output_type": "stream",
     "text": [
      "              precision    recall  f1-score   support\n",
      "\n",
      "       happy       0.67      0.63      0.65       404\n",
      "         sad       0.66      0.70      0.68       415\n",
      "\n",
      "    accuracy                           0.67       819\n",
      "   macro avg       0.67      0.66      0.66       819\n",
      "weighted avg       0.67      0.67      0.66       819\n",
      "\n",
      "best parameters: {'cls__C': 0.5, 'vec__binary': False, 'vec__ngram_range': (1, 1)}\n"
     ]
    }
   ],
   "source": [
    "from sklearn.svm import SVC\n",
    "from sklearn.metrics import roc_curve\n",
    "from sklearn.metrics import roc_auc_score\n",
    "import matplotlib.pyplot as plt\n",
    "\n",
    "pipeline = Pipeline([\n",
    "    ('vec', TfidfVectorizer(tokenizer=preprocess)),\n",
    "    ('cls', SVC(kernel= \"linear\", probability=True)),\n",
    "])\n",
    "\n",
    "para = {\n",
    "    'vec__binary': (True, False),\n",
    "    'vec__ngram_range': ((1, 1), (1, 2), (2, 2)),\n",
    "    'cls__C': (0.1, 0.5, 0.8, 1.0)\n",
    "}\n",
    "\n",
    "grid = GridSearchCV(pipeline, para, cv=5, iid=False, verbose=5, n_jobs=-1)\n",
    "grid.fit(train[\"lyrics\"], train[\"mood\"])\n",
    "print(classification_report(test[\"mood\"], grid.predict(test[\"lyrics\"]), mood))\n",
    "print(\"best parameters:\", grid.best_params_)"
   ]
  },
  {
   "cell_type": "code",
   "execution_count": 8,
   "metadata": {},
   "outputs": [
    {
     "name": "stdout",
     "output_type": "stream",
     "text": [
      "AUC: 0.728\n"
     ]
    }
   ],
   "source": [
    "decision_scores = grid.decision_function(test[\"lyrics\"])\n",
    "svm_fpr, svm_tpr, thres = roc_curve(y_test, decision_scores)\n",
    "\n",
    "print('AUC: {:.3f}'.format(roc_auc_score(y_test, decision_scores)))"
   ]
  },
  {
   "cell_type": "code",
   "execution_count": 13,
   "metadata": {},
   "outputs": [
    {
     "name": "stdout",
     "output_type": "stream",
     "text": [
      "AUC: 0.724\n",
      "========================================================\n",
      "              precision    recall  f1-score   support\n",
      "\n",
      "       happy       0.66      0.64      0.65       404\n",
      "         sad       0.66      0.68      0.67       415\n",
      "\n",
      "    accuracy                           0.66       819\n",
      "   macro avg       0.66      0.66      0.66       819\n",
      "weighted avg       0.66      0.66      0.66       819\n",
      "\n"
     ]
    }
   ],
   "source": [
    "from sklearn.svm import SVC\n",
    "from sklearn.metrics import roc_curve\n",
    "from sklearn.metrics import roc_auc_score\n",
    "import matplotlib.pyplot as plt\n",
    "\n",
    "pipeline = Pipeline([\n",
    "    ('vec', TfidfVectorizer(tokenizer=preprocess)),\n",
    "    ('cls', SVC(kernel= \"linear\", probability=True))   \n",
    "])\n",
    "pipeline.fit(train[\"lyrics\"], train[\"mood\"])\n",
    "\n",
    "decision_scores = pipeline.decision_function(test[\"lyrics\"])\n",
    "svm_fpr, svm_tpr, thres = roc_curve(y_test, decision_scores)\n",
    "\n",
    "print('AUC: {:.3f}'.format(roc_auc_score(y_test, decision_scores)))\n",
    "print (\"========================================================\")\n",
    "test_predicted = pipeline.predict(test[\"lyrics\"])\n",
    "print (classification_report(test[\"mood\"], test_predicted))\n"
   ]
  },
  {
   "cell_type": "markdown",
   "metadata": {},
   "source": [
    "### Classifier - Naive Bayes"
   ]
  },
  {
   "cell_type": "code",
   "execution_count": 11,
   "metadata": {},
   "outputs": [
    {
     "name": "stdout",
     "output_type": "stream",
     "text": [
      "Fitting 5 folds for each of 24 candidates, totalling 120 fits\n"
     ]
    },
    {
     "name": "stderr",
     "output_type": "stream",
     "text": [
      "[Parallel(n_jobs=-1)]: Using backend LokyBackend with 4 concurrent workers.\n",
      "[Parallel(n_jobs=-1)]: Done  10 tasks      | elapsed:   51.8s\n",
      "[Parallel(n_jobs=-1)]: Done  64 tasks      | elapsed:  4.0min\n",
      "[Parallel(n_jobs=-1)]: Done 120 out of 120 | elapsed:  7.3min finished\n"
     ]
    },
    {
     "name": "stdout",
     "output_type": "stream",
     "text": [
      "              precision    recall  f1-score   support\n",
      "\n",
      "       happy       0.72      0.55      0.62       404\n",
      "         sad       0.64      0.79      0.71       415\n",
      "\n",
      "    accuracy                           0.67       819\n",
      "   macro avg       0.68      0.67      0.67       819\n",
      "weighted avg       0.68      0.67      0.67       819\n",
      "\n",
      "best parameters: {'cls__alpha': 0.1, 'vec__binary': False, 'vec__ngram_range': (1, 1)}\n"
     ]
    }
   ],
   "source": [
    "from sklearn.naive_bayes import MultinomialNB\n",
    "\n",
    "pipeline = Pipeline([\n",
    "    ('vec', TfidfVectorizer(tokenizer=preprocess)),\n",
    "    ('cls', MultinomialNB())\n",
    "])\n",
    "\n",
    "para = {\n",
    "    'vec__binary': (True, False),\n",
    "    'vec__ngram_range': ((1, 1), (1, 2), (2, 2)),\n",
    "    'cls__alpha': (1, 0.1, 0.01, 0.001)\n",
    "}\n",
    "\n",
    "grid = GridSearchCV(pipeline, para, cv=5, iid=False, verbose=5, n_jobs=-1)\n",
    "grid.fit(train[\"lyrics\"], train[\"mood\"])\n",
    "print(classification_report(test[\"mood\"], grid.predict(test[\"lyrics\"]), mood))\n",
    "print(\"best parameters:\", grid.best_params_)"
   ]
  },
  {
   "cell_type": "code",
   "execution_count": 15,
   "metadata": {},
   "outputs": [
    {
     "name": "stdout",
     "output_type": "stream",
     "text": [
      "AUC: 0.743\n"
     ]
    }
   ],
   "source": [
    "decision_scores = grid.predict_proba(test[\"lyrics\"])[:,1]\n",
    "svm_fpr, svm_tpr, thres = roc_curve(y_test, decision_scores)\n",
    "\n",
    "print('AUC: {:.3f}'.format(roc_auc_score(y_test, decision_scores)))"
   ]
  },
  {
   "cell_type": "code",
   "execution_count": 12,
   "metadata": {},
   "outputs": [
    {
     "name": "stdout",
     "output_type": "stream",
     "text": [
      "AUC: 0.761\n",
      "========================================================\n",
      "              precision    recall  f1-score   support\n",
      "\n",
      "       happy       0.81      0.36      0.50       404\n",
      "         sad       0.59      0.92      0.72       415\n",
      "\n",
      "    accuracy                           0.64       819\n",
      "   macro avg       0.70      0.64      0.61       819\n",
      "weighted avg       0.70      0.64      0.61       819\n",
      "\n"
     ]
    }
   ],
   "source": [
    "# https://scikit-learn.org/stable/modules/generated/sklearn.feature_extraction.text.TfidfVectorizer.html\n",
    "from sklearn.naive_bayes import MultinomialNB\n",
    "\n",
    "pipeline = Pipeline([\n",
    "    ('vec', TfidfVectorizer(tokenizer=preprocess)),\n",
    "    ('cls', MultinomialNB()),\n",
    "])\n",
    "\n",
    "pipeline.fit(train[\"lyrics\"], train[\"mood\"])\n",
    "decision_scores = pipeline.predict_proba(test[\"lyrics\"])[:,1]\n",
    "nb_fpr, nb_tpr, thres = roc_curve(y_test, decision_scores)\n",
    "\n",
    "print('AUC: {:.3f}'.format(roc_auc_score(y_test, decision_scores)))\n",
    "\n",
    "print (\"========================================================\")\n",
    "\n",
    "test_predicted = pipeline.predict(test[\"lyrics\"])\n",
    "print (classification_report(test[\"mood\"], test_predicted))\n"
   ]
  },
  {
   "cell_type": "markdown",
   "metadata": {},
   "source": [
    "### Logistics Regression"
   ]
  },
  {
   "cell_type": "code",
   "execution_count": 20,
   "metadata": {},
   "outputs": [
    {
     "name": "stdout",
     "output_type": "stream",
     "text": [
      "Fitting 5 folds for each of 6 candidates, totalling 30 fits\n"
     ]
    },
    {
     "name": "stderr",
     "output_type": "stream",
     "text": [
      "[Parallel(n_jobs=-1)]: Using backend LokyBackend with 4 concurrent workers.\n",
      "[Parallel(n_jobs=-1)]: Done  10 tasks      | elapsed:   48.3s\n",
      "[Parallel(n_jobs=-1)]: Done  30 out of  30 | elapsed:  1.9min remaining:    0.0s\n",
      "[Parallel(n_jobs=-1)]: Done  30 out of  30 | elapsed:  1.9min finished\n"
     ]
    },
    {
     "name": "stdout",
     "output_type": "stream",
     "text": [
      "              precision    recall  f1-score   support\n",
      "\n",
      "       happy       0.69      0.63      0.66       404\n",
      "         sad       0.67      0.73      0.70       415\n",
      "\n",
      "    accuracy                           0.68       819\n",
      "   macro avg       0.68      0.68      0.68       819\n",
      "weighted avg       0.68      0.68      0.68       819\n",
      "\n",
      "best parameters: {'vec__binary': False, 'vec__ngram_range': (1, 1)}\n"
     ]
    }
   ],
   "source": [
    "from sklearn.linear_model import LogisticRegression\n",
    "\n",
    "pipeline = Pipeline([\n",
    "    ('vec', TfidfVectorizer(tokenizer=preprocess)),\n",
    "    ('cls', LogisticRegression(solver='lbfgs', multi_class='auto', max_iter=1000))\n",
    "])\n",
    "\n",
    "para = {\n",
    "    'vec__binary': (True, False),\n",
    "    'vec__ngram_range': ((1, 1), (1, 2), (2, 2))\n",
    "}\n",
    "\n",
    "grid = GridSearchCV(pipeline, para, cv=5, iid=False, verbose=5, n_jobs=-1)\n",
    "grid.fit(train[\"lyrics\"], train[\"mood\"])\n",
    "print(classification_report(test[\"mood\"], grid.predict(test[\"lyrics\"]), mood))\n",
    "print(\"best parameters:\", grid.best_params_)"
   ]
  },
  {
   "cell_type": "code",
   "execution_count": 21,
   "metadata": {},
   "outputs": [
    {
     "name": "stdout",
     "output_type": "stream",
     "text": [
      "AUC: 0.737\n"
     ]
    }
   ],
   "source": [
    "decision_scores = grid.predict_proba(test[\"lyrics\"])[:,1]\n",
    "svm_fpr, svm_tpr, thres = roc_curve(y_test, decision_scores)\n",
    "\n",
    "print('AUC: {:.3f}'.format(roc_auc_score(y_test, decision_scores)))"
   ]
  },
  {
   "cell_type": "code",
   "execution_count": 15,
   "metadata": {},
   "outputs": [
    {
     "name": "stderr",
     "output_type": "stream",
     "text": [
      "/Users/minchunshih/anaconda3/lib/python3.7/site-packages/sklearn/linear_model/logistic.py:432: FutureWarning: Default solver will be changed to 'lbfgs' in 0.22. Specify a solver to silence this warning.\n",
      "  FutureWarning)\n"
     ]
    },
    {
     "name": "stdout",
     "output_type": "stream",
     "text": [
      "AUC: 0.737\n",
      "========================================================\n",
      "              precision    recall  f1-score   support\n",
      "\n",
      "       happy       0.69      0.63      0.66       404\n",
      "         sad       0.67      0.73      0.70       415\n",
      "\n",
      "    accuracy                           0.68       819\n",
      "   macro avg       0.68      0.68      0.68       819\n",
      "weighted avg       0.68      0.68      0.68       819\n",
      "\n"
     ]
    }
   ],
   "source": [
    "from sklearn.linear_model import LogisticRegression\n",
    "\n",
    "pipeline = Pipeline([\n",
    "    ('tfidf', TfidfVectorizer(tokenizer=preprocess)),\n",
    "    ('cls', LogisticRegression()),\n",
    "])\n",
    "\n",
    "pipeline.fit(train[\"lyrics\"], train[\"mood\"])\n",
    "decision_scores = pipeline.predict_proba(test[\"lyrics\"])[:,1]\n",
    "lg_fpr, lg_tpr, thres = roc_curve(y_test, decision_scores)\n",
    "\n",
    "\n",
    "print('AUC: {:.3f}'.format(roc_auc_score(y_test, decision_scores)))\n",
    "\n",
    "print (\"========================================================\")\n",
    "\n",
    "test_predicted = pipeline.predict(test[\"lyrics\"])\n",
    "print (classification_report(test[\"mood\"], test_predicted))"
   ]
  },
  {
   "cell_type": "code",
   "execution_count": 17,
   "metadata": {},
   "outputs": [
    {
     "data": {
      "image/png": "[encoded data removed]",
      "text/plain": [
       "<Figure size 432x288 with 1 Axes>"
      ]
     },
     "metadata": {
      "needs_background": "light"
     },
     "output_type": "display_data"
    }
   ],
   "source": [
    "# roc curve\n",
    "plt.plot(svm_fpr, svm_tpr, \"m\", label='SVM')\n",
    "plt.plot(nb_fpr, nb_tpr, \"c\", label='Naive Bayes')\n",
    "plt.plot(lg_fpr, lg_tpr, \"b\", label='Logistic Regression')\n",
    "plt.plot([0,1],[0,1], \"k--\", label='Random Guess')\n",
    "plt.xlabel(\"false positive rate\")\n",
    "plt.ylabel(\"true positive rate\")\n",
    "plt.legend(loc=\"best\")\n",
    "plt.title(\"ROC curve\")\n",
    "# plt.show()\n",
    "plt.savefig('AUC.png')"
   ]
  },
  {
   "cell_type": "markdown",
   "metadata": {},
   "source": [
    "### CNN"
   ]
  },
  {
   "cell_type": "code",
   "execution_count": 18,
   "metadata": {},
   "outputs": [],
   "source": [
    "# text preprocessing\n",
    "x_train = []\n",
    "for i in range(train.shape[0]):\n",
    "    x_train.append(preprocess(train.iloc[i, 2]))    \n",
    "\n",
    "x_test = []\n",
    "for i in range(test.shape[0]):\n",
    "    x_test.append(preprocess(test.iloc[i, 2]))        "
   ]
  },
  {
   "cell_type": "code",
   "execution_count": 19,
   "metadata": {},
   "outputs": [
    {
     "name": "stdout",
     "output_type": "stream",
     "text": [
      "211234 words total, with a vocabulary size of 10819\n",
      "Max sentence length is 576\n"
     ]
    }
   ],
   "source": [
    "all_training_words = [word for tokens in x_train for word in tokens]\n",
    "training_sentence_lengths = [len(tokens) for tokens in x_train]\n",
    "\n",
    "TRAINING_VOCAB = sorted(list(set(all_training_words)))\n",
    "print(\"%s words total, with a vocabulary size of %s\" % (len(all_training_words), len(TRAINING_VOCAB)))\n",
    "print(\"Max sentence length is %s\" % max(training_sentence_lengths))"
   ]
  },
  {
   "cell_type": "code",
   "execution_count": 20,
   "metadata": {},
   "outputs": [
    {
     "name": "stdout",
     "output_type": "stream",
     "text": [
      "94594 words total, with a vocabulary size of 7391\n",
      "Max sentence length is 679\n"
     ]
    }
   ],
   "source": [
    "all_test_words = [word for tokens in x_test for word in tokens]\n",
    "test_sentence_lengths = [len(tokens) for tokens in x_test]\n",
    "\n",
    "TEST_VOCAB = sorted(list(set(all_test_words)))\n",
    "print(\"%s words total, with a vocabulary size of %s\" % (len(all_test_words), len(TEST_VOCAB)))\n",
    "print(\"Max sentence length is %s\" % max(test_sentence_lengths))"
   ]
  },
  {
   "cell_type": "code",
   "execution_count": 21,
   "metadata": {},
   "outputs": [],
   "source": [
    "from gensim import models\n",
    "\n",
    "word2vec = models.KeyedVectors.load_word2vec_format('../GoogleNews-vectors-negative300.bin.gz', binary=True)"
   ]
  },
  {
   "cell_type": "code",
   "execution_count": 22,
   "metadata": {},
   "outputs": [],
   "source": [
    "def get_average_word2vec(tokens_list, vector, generate_missing=False, k=300):\n",
    "    if len(tokens_list)<1:\n",
    "        return np.zeros(k)\n",
    "    if generate_missing:\n",
    "        vectorized = [vector[word] if word in vector else np.random.rand(k) for word in tokens_list]\n",
    "    else:\n",
    "        vectorized = [vector[word] if word in vector else np.zeros(k) for word in tokens_list]\n",
    "    length = len(vectorized)\n",
    "    summed = np.sum(vectorized, axis=0)\n",
    "    averaged = np.divide(summed, length)\n",
    "    return averaged\n",
    "\n",
    "def get_word2vec_embeddings(vectors, clean_lyrics, generate_missing=False):\n",
    "#     embeddings = clean_lyrics.apply(lambda x: get_average_word2vec(x, vectors, generate_missing=generate_missing))\n",
    "    embeddings = [get_average_word2vec(lyric_token, vectors, generate_missing) for lyric_token in clean_lyrics]\n",
    "    return list(embeddings)"
   ]
  },
  {
   "cell_type": "code",
   "execution_count": 23,
   "metadata": {},
   "outputs": [],
   "source": [
    "training_embeddings = get_word2vec_embeddings(word2vec, x_train, generate_missing=True)"
   ]
  },
  {
   "cell_type": "code",
   "execution_count": 24,
   "metadata": {},
   "outputs": [
    {
     "name": "stderr",
     "output_type": "stream",
     "text": [
      "Using TensorFlow backend.\n"
     ]
    },
    {
     "name": "stdout",
     "output_type": "stream",
     "text": [
      "Found 13124 unique tokens.\n"
     ]
    }
   ],
   "source": [
    "from keras.preprocessing.text import Tokenizer\n",
    "from keras.preprocessing.sequence import pad_sequences\n",
    "\n",
    "MAX_SEQUENCE_LENGTH = 500\n",
    "\n",
    "tokenizer = Tokenizer(num_words=len(TRAINING_VOCAB), lower=True, char_level=False)\n",
    "tokenizer.fit_on_texts(train[\"lyrics\"].tolist())\n",
    "training_sequences = tokenizer.texts_to_sequences(train[\"lyrics\"].tolist())\n",
    "train_word_index = tokenizer.word_index\n",
    "print(\"Found %s unique tokens.\" % len(train_word_index))\n",
    "train_cnn_data = pad_sequences(training_sequences, \n",
    "                               maxlen=MAX_SEQUENCE_LENGTH)"
   ]
  },
  {
   "cell_type": "code",
   "execution_count": 25,
   "metadata": {},
   "outputs": [
    {
     "name": "stdout",
     "output_type": "stream",
     "text": [
      "(13125, 300)\n"
     ]
    }
   ],
   "source": [
    "EMBEDDING_DIM = 300\n",
    "\n",
    "train_embedding_weights = np.zeros((len(train_word_index)+1, EMBEDDING_DIM))\n",
    "\n",
    "for word,index in train_word_index.items():\n",
    "    train_embedding_weights[index,:] = word2vec[word] if word in word2vec else np.random.rand(EMBEDDING_DIM)\n",
    "print(train_embedding_weights.shape)"
   ]
  },
  {
   "cell_type": "code",
   "execution_count": 26,
   "metadata": {},
   "outputs": [],
   "source": [
    "test_sequences = tokenizer.texts_to_sequences(test[\"lyrics\"].tolist())\n",
    "test_cnn_data = pad_sequences(test_sequences, maxlen=MAX_SEQUENCE_LENGTH)"
   ]
  },
  {
   "cell_type": "code",
   "execution_count": 27,
   "metadata": {},
   "outputs": [
    {
     "name": "stderr",
     "output_type": "stream",
     "text": [
      "/Users/minchunshih/anaconda3/lib/python3.7/site-packages/ipykernel_launcher.py:1: SettingWithCopyWarning: \n",
      "A value is trying to be set on a copy of a slice from a DataFrame.\n",
      "Try using .loc[row_indexer,col_indexer] = value instead\n",
      "\n",
      "See the caveats in the documentation: http://pandas.pydata.org/pandas-docs/stable/indexing.html#indexing-view-versus-copy\n",
      "  \"\"\"Entry point for launching an IPython kernel.\n",
      "/Users/minchunshih/anaconda3/lib/python3.7/site-packages/ipykernel_launcher.py:10: SettingWithCopyWarning: \n",
      "A value is trying to be set on a copy of a slice from a DataFrame.\n",
      "Try using .loc[row_indexer,col_indexer] = value instead\n",
      "\n",
      "See the caveats in the documentation: http://pandas.pydata.org/pandas-docs/stable/indexing.html#indexing-view-versus-copy\n",
      "  # Remove the CWD from sys.path while we load stuff.\n"
     ]
    }
   ],
   "source": [
    "train['happy']= y_train\n",
    "\n",
    "train_sad = []\n",
    "for i in train[\"mood\"].index:\n",
    "    if train[\"mood\"][i] == \"happy\":\n",
    "        train_sad.append(1)\n",
    "    else:\n",
    "        train_sad.append(0)\n",
    "\n",
    "train['sad']= train_sad\n",
    "y_train = train[mood].values"
   ]
  },
  {
   "cell_type": "code",
   "execution_count": 28,
   "metadata": {},
   "outputs": [
    {
     "name": "stderr",
     "output_type": "stream",
     "text": [
      "/Users/minchunshih/anaconda3/lib/python3.7/site-packages/ipykernel_launcher.py:1: SettingWithCopyWarning: \n",
      "A value is trying to be set on a copy of a slice from a DataFrame.\n",
      "Try using .loc[row_indexer,col_indexer] = value instead\n",
      "\n",
      "See the caveats in the documentation: http://pandas.pydata.org/pandas-docs/stable/indexing.html#indexing-view-versus-copy\n",
      "  \"\"\"Entry point for launching an IPython kernel.\n",
      "/Users/minchunshih/anaconda3/lib/python3.7/site-packages/ipykernel_launcher.py:10: SettingWithCopyWarning: \n",
      "A value is trying to be set on a copy of a slice from a DataFrame.\n",
      "Try using .loc[row_indexer,col_indexer] = value instead\n",
      "\n",
      "See the caveats in the documentation: http://pandas.pydata.org/pandas-docs/stable/indexing.html#indexing-view-versus-copy\n",
      "  # Remove the CWD from sys.path while we load stuff.\n"
     ]
    }
   ],
   "source": [
    "test['happy']= y_test\n",
    "\n",
    "test_sad = []\n",
    "for i in test[\"mood\"].index:\n",
    "    if test[\"mood\"][i] == \"happy\":\n",
    "        test_sad.append(1)\n",
    "    else:\n",
    "        test_sad.append(0)\n",
    "\n",
    "test['sad']= test_sad\n",
    "y_test = test[mood].values"
   ]
  },
  {
   "cell_type": "code",
   "execution_count": 29,
   "metadata": {},
   "outputs": [],
   "source": [
    "from keras.models import Sequential\n",
    "from keras.layers import Embedding, Dense, Dropout, GlobalMaxPooling1D, Conv1D\n",
    "\n",
    "def build_model(embeddings, max_sequence_length, num_words, embedding_dim, labels_index):\n",
    "\n",
    "    model = Sequential()\n",
    "    model.add(Embedding(num_words, \n",
    "                        embedding_dim,\n",
    "                        weights=[embeddings],\n",
    "                        input_length=max_sequence_length,\n",
    "                        trainable=False))\n",
    "\n",
    "    num_filters = 128\n",
    "    filter_size = 2\n",
    "    model.add(Conv1D(filters=num_filters, # the number of output filters, filter的數量\n",
    "                     kernel_size= filter_size, # the length of the 1D convolution window, filter的寬度(一次抓取的單字數)\n",
    "                     activation='relu'))\n",
    "    model.add(GlobalMaxPooling1D())\n",
    "    model.add(Dropout(rate=0.2))    \n",
    "    num_classes = len(mood)\n",
    "    model.add(Dense(num_classes, activation='softmax')) # 2 neurons\n",
    "    \n",
    "    return model"
   ]
  },
  {
   "cell_type": "code",
   "execution_count": 32,
   "metadata": {},
   "outputs": [],
   "source": [
    "# model = build_model(train_embedding_weights, MAX_SEQUENCE_LENGTH, len(train_word_index)+1, EMBEDDING_DIM, len(list(label_names)))\n",
    "# model.compile(loss='categorical_crossentropy', optimizer='adam', metrics = ['accuracy'])\n",
    "# history = model.fit(train_cnn_data, y_train, validation_data=(test_cnn_data, y_test), epochs=5, shuffle=True)\n",
    "# get_confusion_matrix(model, test_cnn_data, y_test[:,0])\n",
    "\n",
    "\n",
    "# predictions = model.predict(test_cnn_data, batch_size=1024, verbose=1)\n",
    "# model.evaluate(test_cnn_data, y_test, verbose=False)"
   ]
  },
  {
   "cell_type": "code",
   "execution_count": 30,
   "metadata": {},
   "outputs": [],
   "source": [
    "# https://medium.com/@yanweiliu/python機器學習筆記-四-使用scikit-learn進行邏輯迴歸分析-a5769715015d\n",
    "# precision = TP / (TP + FP)\n",
    "# recall = TP / (TP + FN) 能夠預測多少正樣本的比例\n",
    "# accuracy = (TP + TN) / (TN + FP + FN + TP)\n",
    "# f1 score = 2TP / (2TP + FP + FN) Precision 和 Recall 的平衡\n",
    "from sklearn.metrics import confusion_matrix\n",
    "from sklearn.metrics import roc_auc_score\n",
    "from collections import Counter\n",
    "\n",
    "def get_f1(matrix_values):\n",
    "    tn, fp, fn, tp = matrix_values[0], matrix_values[1], matrix_values[2], matrix_values[3]\n",
    "    f1 = round(2*tp/(2*tp+fp+fn), 2)\n",
    "\n",
    "    return (f1)\n",
    "\n",
    "\n",
    "def get_true_y(y):\n",
    "    # y: first column is lay, second column is specialized\n",
    "    # transfer the format of true y\n",
    "    y_true = []\n",
    "    for i in range(len(y)):\n",
    "        if y[i] == 1.:\n",
    "            y_true.append(0) # 0 is happy\n",
    "        else:\n",
    "            y_true.append(1) # 1 is sad\n",
    "    y_true = np.array(y_true)\n",
    "    return (y_true)\n",
    "\n",
    "\n",
    "def get_confusion_matrix(model, X, y):\n",
    "    y_pred = model.predict_classes(X)\n",
    "    y_true = get_true_y(y)\n",
    "\n",
    "    auc_score = roc_auc_score(y, model.predict(X)[:,0])\n",
    "\n",
    "    tn, fp, fn, tp = confusion_matrix(y_true, y_pred).ravel()\n",
    "    accuracy = round((tp+tn)/(tn+fp+fn+tp), 2)\n",
    "    conf_matrix = pd.DataFrame([[tp, fp], [fn, tn]], columns=[\"Happy\", \"Sad\"], index=[\"pred Happy\", \"pred Sad\"]) \n",
    "  \n",
    "    f1_sad = get_f1((tp, fn, fp, tn))\n",
    "    f1_happy = get_f1((tn, fp, fn, tp))\n",
    "\n",
    "    count = Counter(y_true)\n",
    "    count_sad = count[0]\n",
    "    count_happy = count[1]\n",
    "\n",
    "    f1_avg = round((f1_sad*count_sad + f1_happy*count_happy)/(count_sad+count_happy), 2)\n",
    "\n",
    "    return (conf_matrix, [f1_avg, f1_sad, f1_happy], accuracy, auc_score)"
   ]
  },
  {
   "cell_type": "code",
   "execution_count": 31,
   "metadata": {},
   "outputs": [
    {
     "name": "stdout",
     "output_type": "stream",
     "text": [
      "0\n",
      "Train on 1910 samples, validate on 819 samples\n",
      "Epoch 1/5\n",
      "1910/1910 [==============================] - 5s 3ms/step - loss: 0.7413 - accuracy: 0.5366 - val_loss: 0.6884 - val_accuracy: 0.5397\n",
      "Epoch 2/5\n",
      "1910/1910 [==============================] - 5s 3ms/step - loss: 0.6432 - accuracy: 0.6215 - val_loss: 0.6329 - val_accuracy: 0.6361\n",
      "Epoch 3/5\n",
      "1910/1910 [==============================] - 5s 3ms/step - loss: 0.5680 - accuracy: 0.7236 - val_loss: 0.6261 - val_accuracy: 0.6215\n",
      "Epoch 4/5\n",
      "1910/1910 [==============================] - 5s 3ms/step - loss: 0.5210 - accuracy: 0.7649 - val_loss: 0.5979 - val_accuracy: 0.6654\n",
      "Epoch 5/5\n",
      "1910/1910 [==============================] - 5s 3ms/step - loss: 0.4688 - accuracy: 0.7911 - val_loss: 0.6095 - val_accuracy: 0.6716\n",
      "1\n",
      "Train on 1910 samples, validate on 819 samples\n",
      "Epoch 1/5\n",
      "1910/1910 [==============================] - 6s 3ms/step - loss: 0.7335 - accuracy: 0.5497 - val_loss: 0.6575 - val_accuracy: 0.6093\n",
      "Epoch 2/5\n",
      "1910/1910 [==============================] - 6s 3ms/step - loss: 0.6326 - accuracy: 0.6476 - val_loss: 0.6207 - val_accuracy: 0.6557\n",
      "Epoch 3/5\n",
      "1910/1910 [==============================] - 6s 3ms/step - loss: 0.5764 - accuracy: 0.7010 - val_loss: 0.5956 - val_accuracy: 0.6825\n",
      "Epoch 4/5\n",
      "1910/1910 [==============================] - 5s 3ms/step - loss: 0.5259 - accuracy: 0.7440 - val_loss: 0.5835 - val_accuracy: 0.6972\n",
      "Epoch 5/5\n",
      "1910/1910 [==============================] - 7s 4ms/step - loss: 0.4779 - accuracy: 0.7885 - val_loss: 0.5976 - val_accuracy: 0.6728\n",
      "2\n",
      "Train on 1910 samples, validate on 819 samples\n",
      "Epoch 1/5\n",
      "1910/1910 [==============================] - 7s 4ms/step - loss: 0.7616 - accuracy: 0.5346 - val_loss: 0.6787 - val_accuracy: 0.5470\n",
      "Epoch 2/5\n",
      "1910/1910 [==============================] - 6s 3ms/step - loss: 0.6410 - accuracy: 0.6455 - val_loss: 0.6338 - val_accuracy: 0.6252\n",
      "Epoch 3/5\n",
      "1910/1910 [==============================] - 6s 3ms/step - loss: 0.5636 - accuracy: 0.7220 - val_loss: 0.6003 - val_accuracy: 0.6862\n",
      "Epoch 4/5\n",
      "1910/1910 [==============================] - 6s 3ms/step - loss: 0.5134 - accuracy: 0.7513 - val_loss: 0.6063 - val_accuracy: 0.6642\n",
      "Epoch 5/5\n",
      "1910/1910 [==============================] - 6s 3ms/step - loss: 0.4723 - accuracy: 0.7963 - val_loss: 0.5836 - val_accuracy: 0.6899\n",
      "3\n",
      "Train on 1910 samples, validate on 819 samples\n",
      "Epoch 1/5\n",
      "1910/1910 [==============================] - 6s 3ms/step - loss: 0.7801 - accuracy: 0.5272 - val_loss: 0.7196 - val_accuracy: 0.5140\n",
      "Epoch 2/5\n",
      "1910/1910 [==============================] - 6s 3ms/step - loss: 0.6453 - accuracy: 0.6183 - val_loss: 0.6497 - val_accuracy: 0.6044\n",
      "Epoch 3/5\n",
      "1910/1910 [==============================] - 5s 3ms/step - loss: 0.5792 - accuracy: 0.7010 - val_loss: 0.5973 - val_accuracy: 0.6947\n",
      "Epoch 4/5\n",
      "1910/1910 [==============================] - 5s 3ms/step - loss: 0.5218 - accuracy: 0.7565 - val_loss: 0.5909 - val_accuracy: 0.6716\n",
      "Epoch 5/5\n",
      "1910/1910 [==============================] - 6s 3ms/step - loss: 0.4959 - accuracy: 0.7743 - val_loss: 0.5747 - val_accuracy: 0.7204\n",
      "4\n",
      "Train on 1910 samples, validate on 819 samples\n",
      "Epoch 1/5\n",
      "1910/1910 [==============================] - 5s 2ms/step - loss: 0.7571 - accuracy: 0.5435 - val_loss: 0.6748 - val_accuracy: 0.5604\n",
      "Epoch 2/5\n",
      "1910/1910 [==============================] - 5s 3ms/step - loss: 0.6381 - accuracy: 0.6382 - val_loss: 0.6309 - val_accuracy: 0.6300\n",
      "Epoch 3/5\n",
      "1910/1910 [==============================] - 6s 3ms/step - loss: 0.5800 - accuracy: 0.6927 - val_loss: 0.6083 - val_accuracy: 0.6813\n",
      "Epoch 4/5\n",
      "1910/1910 [==============================] - 6s 3ms/step - loss: 0.5241 - accuracy: 0.7623 - val_loss: 0.5920 - val_accuracy: 0.6838\n",
      "Epoch 5/5\n",
      "1910/1910 [==============================] - 5s 3ms/step - loss: 0.4868 - accuracy: 0.7832 - val_loss: 0.5859 - val_accuracy: 0.6801\n"
     ]
    }
   ],
   "source": [
    "all_f1_avg = {}\n",
    "all_f1_sad = {}\n",
    "all_f1_happy = {}\n",
    "all_accuracy = {}\n",
    "all_auc_score = {}\n",
    "\n",
    "for i in range(5):\n",
    "    print (i)\n",
    "    \n",
    "    model = build_model(train_embedding_weights, MAX_SEQUENCE_LENGTH, len(train_word_index)+1, EMBEDDING_DIM, len(list(mood)))\n",
    "    model.compile(loss='categorical_crossentropy', optimizer='adam', metrics = ['accuracy'])\n",
    "    history = model.fit(train_cnn_data, y_train, validation_data=(test_cnn_data, y_test), epochs=5, shuffle=True)\n",
    "    conf_matrix, f1, accuracy, auc_score  = get_confusion_matrix(model, test_cnn_data, y_test[:,0])\n",
    "    all_f1_avg[i] = f1[0]\n",
    "    all_f1_sad[i] = f1[1]\n",
    "    all_f1_happy[i] = f1[2]\n",
    "    all_accuracy[i] = accuracy\n",
    "    all_auc_score[i] = auc_score"
   ]
  },
  {
   "cell_type": "code",
   "execution_count": 32,
   "metadata": {},
   "outputs": [
    {
     "name": "stdout",
     "output_type": "stream",
     "text": [
      "Accuracy: 0.686 , Auc score: 0.761211380174162\n",
      "F1 average: 0.682 , F1 sad: 0.7 , F1 happy: 0.662\n"
     ]
    }
   ],
   "source": [
    "from statistics import mean \n",
    "\n",
    "print (\"Accuracy: \" + str(mean(all_accuracy.values())), \", Auc score: \" + str(mean(all_auc_score.values())))\n",
    "print (\"F1 average: \" + str(mean(all_f1_avg.values())), \", F1 sad: \" + str(mean(all_f1_sad.values())), \", F1 happy: \" + str(mean(all_f1_happy.values())))"
   ]
  },
  {
   "cell_type": "code",
   "execution_count": 33,
   "metadata": {},
   "outputs": [],
   "source": [
    "import matplotlib.pyplot as plt\n",
    "\n",
    "def plot_history(history):\n",
    "    # Plot training & validation accuracy values\n",
    "    plt.plot(history.history['accuracy'])\n",
    "    plt.plot(history.history['val_accuracy'])\n",
    "    plt.title('Model accuracy')\n",
    "    plt.ylabel('Accuracy')\n",
    "    plt.xlabel('Epoch')\n",
    "    plt.legend(['Train', 'Test'], loc='upper left')\n",
    "    plt.show()\n",
    "\n",
    "    # Plot training & validation loss values\n",
    "    plt.plot(history.history['loss'])\n",
    "    plt.plot(history.history['val_loss'])\n",
    "    plt.title('Model loss')\n",
    "    plt.ylabel('Loss')\n",
    "    plt.xlabel('Epoch')\n",
    "    plt.legend(['Train', 'Test'], loc='upper left')\n",
    "    plt.show()"
   ]
  },
  {
   "cell_type": "code",
   "execution_count": 34,
   "metadata": {},
   "outputs": [
    {
     "data": {
      "image/png": "[encoded data removed]",
      "text/plain": [
       "<Figure size 432x288 with 1 Axes>"
      ]
     },
     "metadata": {
      "needs_background": "light"
     },
     "output_type": "display_data"
    },
    {
     "data": {
      "image/png": "[encoded data removed]",
      "text/plain": [
       "<Figure size 432x288 with 1 Axes>"
      ]
     },
     "metadata": {
      "needs_background": "light"
     },
     "output_type": "display_data"
    }
   ],
   "source": [
    "plot_history(history)\n",
    "# print (conf_matrix)"
   ]
  },
  {
   "cell_type": "code",
   "execution_count": null,
   "metadata": {},
   "outputs": [],
   "source": []
  }
 ],
 "metadata": {
  "kernelspec": {
   "display_name": "Python 3",
   "language": "python",
   "name": "python3"
  },
  "language_info": {
   "codemirror_mode": {
    "name": "ipython",
    "version": 3
   },
   "file_extension": ".py",
   "mimetype": "text/x-python",
   "name": "python",
   "nbconvert_exporter": "python",
   "pygments_lexer": "ipython3",
   "version": "3.7.3"
  }
 },
 "nbformat": 4,
 "nbformat_minor": 4
}

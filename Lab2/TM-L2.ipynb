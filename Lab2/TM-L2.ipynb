{
 "cells": [
  {
   "cell_type": "markdown",
   "metadata": {},
   "source": [
    "# L2: Text classification"
   ]
  },
  {
   "cell_type": "markdown",
   "metadata": {},
   "source": [
    "Text classification is the task of sorting text documents into predefined classes. The concrete problem you will be working on in this lab is the classification of texts with respect to their political affiliation. The specific texts you are going to classify are speeches held in the [Riksdag](https://www.riksdagen.se/en/), the Swedish national legislature."
   ]
  },
  {
   "cell_type": "markdown",
   "metadata": {},
   "source": [
    "## Data set"
   ]
  },
  {
   "cell_type": "markdown",
   "metadata": {},
   "source": [
    "The raw data for this lab comes from [The Riksdag’s Open Data](https://data.riksdagen.se/in-english/). We have tokenized the speeches and put them into two compressed [JSON](https://en.wikipedia.org/wiki/JSON) files:\n",
    "\n",
    "* `speeches-201718.json.bz2` (speeches from the 2017/2018 parliamentary session)\n",
    "* `speeches-201819.json.bz2` (ditto, from the 2018/2019 session)\n",
    "\n",
    "We start by loading these files into two separate data frames."
   ]
  },
  {
   "cell_type": "code",
   "execution_count": 2,
   "metadata": {},
   "outputs": [],
   "source": [
    "import pandas as pd\n",
    "import bz2\n",
    "\n",
    "with bz2.open(\"speeches-201718.json.bz2\") as source:\n",
    "    speeches_201718 = pd.read_json(source)\n",
    "\n",
    "with bz2.open(\"speeches-201819.json.bz2\") as source:\n",
    "    speeches_201819 = pd.read_json(source)"
   ]
  },
  {
   "cell_type": "markdown",
   "metadata": {},
   "source": [
    "When you inspect the two data frames, you can see that there are three labelled columns: `id` (the official speech ID), `words` (the space-separated words of the speech), and `party` (the party of the speaker, represented by its customary abbreviation)."
   ]
  },
  {
   "cell_type": "code",
   "execution_count": 3,
   "metadata": {},
   "outputs": [
    {
     "data": {
      "text/html": [
       "<div>\n",
       "<style scoped>\n",
       "    .dataframe tbody tr th:only-of-type {\n",
       "        vertical-align: middle;\n",
       "    }\n",
       "\n",
       "    .dataframe tbody tr th {\n",
       "        vertical-align: top;\n",
       "    }\n",
       "\n",
       "    .dataframe thead th {\n",
       "        text-align: right;\n",
       "    }\n",
       "</style>\n",
       "<table border=\"1\" class=\"dataframe\">\n",
       "  <thead>\n",
       "    <tr style=\"text-align: right;\">\n",
       "      <th></th>\n",
       "      <th>id</th>\n",
       "      <th>party</th>\n",
       "      <th>words</th>\n",
       "    </tr>\n",
       "  </thead>\n",
       "  <tbody>\n",
       "    <tr>\n",
       "      <th>0</th>\n",
       "      <td>H5-002-004</td>\n",
       "      <td>S</td>\n",
       "      <td>eders majestäter eders kungliga högheter herr ...</td>\n",
       "    </tr>\n",
       "    <tr>\n",
       "      <th>1</th>\n",
       "      <td>H5-003-001</td>\n",
       "      <td>V</td>\n",
       "      <td>aktuell debatt om situationen för ensamkommand...</td>\n",
       "    </tr>\n",
       "    <tr>\n",
       "      <th>2</th>\n",
       "      <td>H5-003-002</td>\n",
       "      <td>S</td>\n",
       "      <td>herr talman och ledamöter jag vill börja med a...</td>\n",
       "    </tr>\n",
       "    <tr>\n",
       "      <th>3</th>\n",
       "      <td>H5-003-003</td>\n",
       "      <td>M</td>\n",
       "      <td>herr talman åhörare den här debatten handlar a...</td>\n",
       "    </tr>\n",
       "    <tr>\n",
       "      <th>4</th>\n",
       "      <td>H5-003-004</td>\n",
       "      <td>SD</td>\n",
       "      <td>herr talman ansvar och rättssäkerhet är två or...</td>\n",
       "    </tr>\n",
       "  </tbody>\n",
       "</table>\n",
       "</div>"
      ],
      "text/plain": [
       "           id party                                              words\n",
       "0  H5-002-004     S  eders majestäter eders kungliga högheter herr ...\n",
       "1  H5-003-001     V  aktuell debatt om situationen för ensamkommand...\n",
       "2  H5-003-002     S  herr talman och ledamöter jag vill börja med a...\n",
       "3  H5-003-003     M  herr talman åhörare den här debatten handlar a...\n",
       "4  H5-003-004    SD  herr talman ansvar och rättssäkerhet är två or..."
      ]
     },
     "execution_count": 3,
     "metadata": {},
     "output_type": "execute_result"
    }
   ],
   "source": [
    "speeches_201718.head()"
   ]
  },
  {
   "cell_type": "markdown",
   "metadata": {},
   "source": [
    "Throughout the lab, we will be using the speeches from 2017/2018 as our training data, and the speeches from 2018/2019 as our test data."
   ]
  },
  {
   "cell_type": "code",
   "execution_count": 4,
   "metadata": {},
   "outputs": [],
   "source": [
    "training_data, test_data = speeches_201718, speeches_201819"
   ]
  },
  {
   "cell_type": "markdown",
   "metadata": {},
   "source": [
    "For later reference, we store the sorted list of party abbreviations."
   ]
  },
  {
   "cell_type": "code",
   "execution_count": 5,
   "metadata": {},
   "outputs": [
    {
     "name": "stdout",
     "output_type": "stream",
     "text": [
      "['C', 'KD', 'L', 'M', 'MP', 'S', 'SD', 'V']\n"
     ]
    }
   ],
   "source": [
    "parties = sorted(training_data[\"party\"].unique())\n",
    "print(parties)"
   ]
  },
  {
   "cell_type": "markdown",
   "metadata": {},
   "source": [
    "## Problem 1: Visualization"
   ]
  },
  {
   "cell_type": "markdown",
   "metadata": {},
   "source": [
    "Your first task is to get to know the data better by plotting a simple visualization.\n",
    "\n",
    "If you are not familiar with the Swedish political system and the parties represented in the Riksdag in particular, then we suggest that you have a look at the Wikipedia article about the [2018 Swedish general election](https://en.wikipedia.org/wiki/2018_Swedish_general_election).\n",
    "\n",
    "For the lab, we ask you to compare the two data frames with respect to the distribution of the speeches over the different parties. Write code to generate two bar plots that visualize this information, one for the 2017/2018 speeches and one for the 2018/2019 speeches. Inspect the two plots, and compare them\n",
    "\n",
    "* to each other\n",
    "* to the results of the 2014 and the 2018 general elections\n",
    "\n",
    "Summarize your observations in a short text in the cell below.\n",
    "\n",
    "**Tip:** If you need help with creating bar plots, [Bar Plot using Pandas](https://dfrieds.com/data-visualizations/bar-plot-python-pandas) provides a useful tutorial."
   ]
  },
  {
   "cell_type": "code",
   "execution_count": 7,
   "metadata": {},
   "outputs": [
    {
     "data": {
      "image/png": "[encoded data removed]",
      "text/plain": [
       "<Figure size 432x288 with 1 Axes>"
      ]
     },
     "metadata": {
      "needs_background": "light"
     },
     "output_type": "display_data"
    }
   ],
   "source": [
    "import numpy as np\n",
    "import matplotlib.pyplot as plt\n",
    "\n",
    "train_count = training_data[\"party\"].value_counts()\n",
    "test_count = test_data[\"party\"].value_counts()\n",
    "\n",
    "df = pd.DataFrame({\"2017/2018\":train_count, \"2018/2019\":test_count})\n",
    "ax = df.plot.bar(color=[\"SkyBlue\", \"IndianRed\"], rot=0, \n",
    "                 title=\"The number of speeches for different parties\")\n",
    "ax.set_xlabel(\"party\")\n",
    "ax.set_ylabel(\"counts\")\n",
    "plt.show()"
   ]
  },
  {
   "cell_type": "code",
   "execution_count": 8,
   "metadata": {},
   "outputs": [
    {
     "data": {
      "image/png": "[encoded data removed]",
      "text/plain": [
       "<Figure size 432x288 with 1 Axes>"
      ]
     },
     "metadata": {
      "needs_background": "light"
     },
     "output_type": "display_data"
    }
   ],
   "source": [
    "train_ratio = train_count/sum(train_count)\n",
    "test_ratio = test_count/sum(test_count)\n",
    "\n",
    "df = pd.DataFrame({\"2017/2018\":train_ratio, \"2018/2019\":test_ratio})\n",
    "ax = df.plot.bar(color=[\"SkyBlue\", \"IndianRed\"], rot=0, title=\"The ratio of speeches for different parties\")\n",
    "ax.set_xlabel(\"party\")\n",
    "ax.set_ylabel(\"ratio\")\n",
    "plt.show()"
   ]
  },
  {
   "cell_type": "markdown",
   "metadata": {},
   "source": [
    "*TODO: Enter your summary here*\n",
    "From the plots above, we can see party S has the highest speeches and party M is the second highest, other parties don't have significant difference. From the ratio plot, we can see that the percnetage of speeaches number for party M and party S decrease in 2018/2019, party MP also goes down in 2018/2019. Other parties are increasing for the percentage of speeches number compare to 2017/2018."
   ]
  },
  {
   "cell_type": "markdown",
   "metadata": {},
   "source": [
    "## Problem 2: Naive Bayes classifier"
   ]
  },
  {
   "cell_type": "markdown",
   "metadata": {},
   "source": [
    "You are now ready to train and evaluate a classifier. More specifically, we ask you to train a [Multinomial Naive Bayes](https://scikit-learn.org/stable/modules/naive_bayes.html#multinomial-naive-bayes) classifier. You will have to\n",
    "\n",
    "1. vectorize the speeches in the training data\n",
    "2. instantiate and fit the Naive Bayes model\n",
    "3. evaluate the model on the test data\n",
    "\n",
    "The scikit-learn library provides a convenience class [Pipeline](https://scikit-learn.org/stable/modules/generated/sklearn.pipeline.Pipeline.html) that allows you to solve the first two tasks with very compact code. For the evaluation you can use the function [`classification_report`](https://scikit-learn.org/stable/modules/generated/sklearn.metrics.classification_report.html), which will report per-class precision, recall and F1, as well as overall accuracy."
   ]
  },
  {
   "cell_type": "code",
   "execution_count": 9,
   "metadata": {},
   "outputs": [
    {
     "name": "stderr",
     "output_type": "stream",
     "text": [
      "/Users/minchunshih/anaconda3/lib/python3.7/site-packages/sklearn/metrics/classification.py:1437: UndefinedMetricWarning: Precision and F-score are ill-defined and being set to 0.0 in labels with no predicted samples.\n",
      "  'precision', 'predicted', average, warn_for)\n"
     ]
    },
    {
     "name": "stdout",
     "output_type": "stream",
     "text": [
      "              precision    recall  f1-score   support\n",
      "\n",
      "           C       0.00      0.00      0.00       865\n",
      "          KD       0.00      0.00      0.00       743\n",
      "           L       0.00      0.00      0.00       719\n",
      "           M       0.97      0.01      0.03      2370\n",
      "          MP       0.00      0.00      0.00      1481\n",
      "           S       0.35      1.00      0.51      4261\n",
      "          SD       0.00      0.00      0.00      1010\n",
      "           V       0.00      0.00      0.00       894\n",
      "\n",
      "    accuracy                           0.35     12343\n",
      "   macro avg       0.16      0.13      0.07     12343\n",
      "weighted avg       0.31      0.35      0.18     12343\n",
      "\n",
      "              precision    recall  f1-score   support\n",
      "\n",
      "           C       0.00      0.00      0.00       671\n",
      "          KD       0.00      0.00      0.00       821\n",
      "           L       0.00      0.00      0.00       560\n",
      "           M       0.50      0.00      0.00      1644\n",
      "          MP       0.00      0.00      0.00       809\n",
      "           S       0.30      1.00      0.46      2773\n",
      "          SD       0.00      0.00      0.00      1060\n",
      "           V       0.00      0.00      0.00       950\n",
      "\n",
      "    accuracy                           0.30      9288\n",
      "   macro avg       0.10      0.13      0.06      9288\n",
      "weighted avg       0.18      0.30      0.14      9288\n",
      "\n"
     ]
    }
   ],
   "source": [
    "# http://frankchen.xyz/2018/04/08/pipeline-in-machine-learning/\n",
    "# TODO: Write code here to train and evaluate a Multinomial Naive Bayes classifier\n",
    "from sklearn.pipeline import Pipeline\n",
    "from sklearn.naive_bayes import MultinomialNB\n",
    "# from sklearn.feature_extraction.text import CountVectorizer\n",
    "from sklearn.feature_extraction.text import TfidfVectorizer\n",
    "from sklearn.metrics import classification_report\n",
    "         \n",
    "pipeline = Pipeline([\n",
    "#     ('vec', CountVectorizer()),\n",
    "    ('vec', TfidfVectorizer()),\n",
    "    ('cls', MultinomialNB()),\n",
    "])\n",
    "\n",
    "pipeline.fit(training_data[\"words\"], training_data[\"party\"])\n",
    "\n",
    "predicted = pipeline.predict(training_data[\"words\"])\n",
    "print (classification_report(training_data[\"party\"], predicted))\n",
    "\n",
    "predicted = pipeline.predict(test_data[\"words\"])\n",
    "print (classification_report(test_data[\"party\"], predicted))"
   ]
  },
  {
   "cell_type": "markdown",
   "metadata": {},
   "source": [
    "Would you have expected the results that you got?"
   ]
  },
  {
   "cell_type": "markdown",
   "metadata": {},
   "source": [
    "## Problem 3: Baseline"
   ]
  },
  {
   "cell_type": "markdown",
   "metadata": {},
   "source": [
    "Evaluation metrics such as accuracy should not be understood as absolute measures of performance, but should be used only to compare different classifiers. When other classifiers are not available, a simple baseline for text classification is **Most Frequent Class (MFC)**. One way to think of this baseline is as a classifier that, for every document, predicts that class which appears most often in the training data.\n",
    "\n",
    "Determine the most frequent class in the 2017/2018 data. What is the accuracy of the MFC baseline on the test data? Given this baseline accuracy, how do you assess the results of the Naive Bayes classifier from Problem&nbsp;2? Answer with a short text."
   ]
  },
  {
   "cell_type": "code",
   "execution_count": 10,
   "metadata": {},
   "outputs": [
    {
     "name": "stdout",
     "output_type": "stream",
     "text": [
      "              precision    recall  f1-score   support\n",
      "\n",
      "           C       0.00      0.00      0.00       865\n",
      "          KD       0.00      0.00      0.00       743\n",
      "           L       0.00      0.00      0.00       719\n",
      "           M       0.00      0.00      0.00      2370\n",
      "          MP       0.00      0.00      0.00      1481\n",
      "           S       0.35      1.00      0.51      4261\n",
      "          SD       0.00      0.00      0.00      1010\n",
      "           V       0.00      0.00      0.00       894\n",
      "\n",
      "    accuracy                           0.35     12343\n",
      "   macro avg       0.04      0.12      0.06     12343\n",
      "weighted avg       0.12      0.35      0.18     12343\n",
      "\n",
      "              precision    recall  f1-score   support\n",
      "\n",
      "           C       0.00      0.00      0.00       671\n",
      "          KD       0.00      0.00      0.00       821\n",
      "           L       0.00      0.00      0.00       560\n",
      "           M       0.00      0.00      0.00      1644\n",
      "          MP       0.00      0.00      0.00       809\n",
      "           S       0.30      1.00      0.46      2773\n",
      "          SD       0.00      0.00      0.00      1060\n",
      "           V       0.00      0.00      0.00       950\n",
      "\n",
      "    accuracy                           0.30      9288\n",
      "   macro avg       0.04      0.12      0.06      9288\n",
      "weighted avg       0.09      0.30      0.14      9288\n",
      "\n"
     ]
    }
   ],
   "source": [
    "# TODO: Write code here to print the baseline accuracy\n",
    "from numpy import array\n",
    "\n",
    "# S is the Most Frequent Class in 2017/2018\n",
    "mfc = train_count.idxmax()\n",
    "mfc_training = array([mfc]*training_data.shape[0])\n",
    "print (classification_report(training_data[\"party\"], mfc_training))\n",
    "\n",
    "mfc_test = array([mfc]*test_data.shape[0])\n",
    "print (classification_report(test_data[\"party\"], mfc_test))"
   ]
  },
  {
   "cell_type": "markdown",
   "metadata": {},
   "source": [
    "*TODO: Enter your answer here*"
   ]
  },
  {
   "cell_type": "markdown",
   "metadata": {},
   "source": [
    "## Problem 4: Creating a balanced data set"
   ]
  },
  {
   "cell_type": "markdown",
   "metadata": {},
   "source": [
    "As you saw in Problem&nbsp;1, the distribution of the speeches over the eight different parties (classes) is imbalanced. One technique used to alleviate this is **undersampling**, in which one randomly removes samples from over-represented classes until all classes are represented with the same number of samples.\n",
    "\n",
    "Implement undersampling to create a balanced subset of the training data. Rerun the evaluation from Problem&nbsp;2 on the balanced data and compare the results. Discuss your findings in a short text. Would you argue that undersampling make sense for the task of predicting the party of a speaker?\n",
    "\n",
    "**Hint:** Your balanced subset should consist of 5,752 speeches."
   ]
  },
  {
   "cell_type": "code",
   "execution_count": 9,
   "metadata": {},
   "outputs": [],
   "source": [
    "# https://mathpretty.com/10688.html#Under-sampling\n",
    "# from imblearn.under_sampling import RandomUnderSampler\n",
    "# import collections\n",
    "\n",
    "# # TODO: Write code here to implement undersampling\n",
    "# rus = RandomUnderSampler()\n",
    "# X = pd.DataFrame(training_data[\"words\"])\n",
    "# y = training_data['party']\n",
    "# print('Original dataset shape %s' % collections.Counter(y))\n",
    "\n",
    "# X_rus, y_rus = rus.fit_sample(X, y)\n",
    "# print('Resampled dataset shape %s' % collections.Counter(y_rus))\n",
    "# print (y_rus.shape)"
   ]
  },
  {
   "cell_type": "code",
   "execution_count": 12,
   "metadata": {},
   "outputs": [
    {
     "name": "stdout",
     "output_type": "stream",
     "text": [
      "(5752, 3)\n",
      "C     719\n",
      "L     719\n",
      "V     719\n",
      "M     719\n",
      "SD    719\n",
      "MP    719\n",
      "S     719\n",
      "KD    719\n",
      "Name: party, dtype: int64\n"
     ]
    }
   ],
   "source": [
    "import numpy as np\n",
    "seed = 4\n",
    "np.random.seed(seed)\n",
    "\n",
    "import random \n",
    "\n",
    "min_count = train_count.min()\n",
    "balanced_data = pd.DataFrame()\n",
    "\n",
    "for i in train_count.index:\n",
    "    df = training_data.loc[training_data[\"party\"] == i].index.values\n",
    "    index = random.sample(list(df), min_count)\n",
    "    balanced_data = pd.concat([balanced_data, training_data.loc[index]],\n",
    "                              axis=0, ignore_index = True)\n",
    "\n",
    "print (balanced_data.shape)\n",
    "print (balanced_data[\"party\"].value_counts())"
   ]
  },
  {
   "cell_type": "code",
   "execution_count": 13,
   "metadata": {},
   "outputs": [
    {
     "name": "stdout",
     "output_type": "stream",
     "text": [
      "              precision    recall  f1-score   support\n",
      "\n",
      "           C       0.67      0.85      0.75       865\n",
      "          KD       0.45      0.96      0.62       743\n",
      "           L       0.67      0.95      0.79       719\n",
      "           M       0.65      0.77      0.71      2370\n",
      "          MP       0.80      0.59      0.68      1481\n",
      "           S       0.95      0.53      0.68      4261\n",
      "          SD       0.77      0.76      0.76      1010\n",
      "           V       0.57      0.89      0.70       894\n",
      "\n",
      "    accuracy                           0.70     12343\n",
      "   macro avg       0.69      0.79      0.71     12343\n",
      "weighted avg       0.77      0.70      0.70     12343\n",
      "\n",
      "              precision    recall  f1-score   support\n",
      "\n",
      "           C       0.32      0.39      0.35       671\n",
      "          KD       0.22      0.46      0.30       821\n",
      "           L       0.30      0.42      0.35       560\n",
      "           M       0.38      0.51      0.44      1644\n",
      "          MP       0.37      0.29      0.32       809\n",
      "           S       0.78      0.32      0.46      2773\n",
      "          SD       0.47      0.32      0.38      1060\n",
      "           V       0.37      0.52      0.43       950\n",
      "\n",
      "    accuracy                           0.40      9288\n",
      "   macro avg       0.40      0.40      0.38      9288\n",
      "weighted avg       0.49      0.40      0.40      9288\n",
      "\n"
     ]
    }
   ],
   "source": [
    "pipeline = Pipeline([\n",
    "    ('vec', TfidfVectorizer()),\n",
    "    ('cls', MultinomialNB()),\n",
    "])\n",
    "pipeline.fit(balanced_data[\"words\"], balanced_data[\"party\"])\n",
    "\n",
    "training_predicted = pipeline.predict(training_data[\"words\"])\n",
    "print (classification_report(training_data[\"party\"], training_predicted))\n",
    "\n",
    "test_predicted = pipeline.predict(test_data[\"words\"])\n",
    "print (classification_report(test_data[\"party\"], test_predicted))"
   ]
  },
  {
   "cell_type": "markdown",
   "metadata": {},
   "source": [
    "## Problem 5: Confusion matrix"
   ]
  },
  {
   "cell_type": "markdown",
   "metadata": {},
   "source": [
    "A **confusion matrix** is a specific table layout that is useful when analysing the performance of a classifier. In this matrix, both the rows and the columns correspond to classes, and each cell $(i, j)$ states how many times a sample with gold-standard class $i$ was predicted as belonging to class $j$.\n",
    "\n",
    "In scitkit-learn, the confusion matrix of a classifier is computed by the function [`confusion_matrix`](https://scikit-learn.org/stable/modules/generated/sklearn.metrics.confusion_matrix.html).\n",
    "\n",
    "Your task is to use the confusion matrix to find, for each given party $p$ in the Riksdag, that other party $p'$ which the classifier that you trained in Problem&nbsp;4 most often confuses $p$ with when it predicts the party of a speaker."
   ]
  },
  {
   "cell_type": "code",
   "execution_count": 15,
   "metadata": {},
   "outputs": [
    {
     "name": "stdout",
     "output_type": "stream",
     "text": [
      "[[896 500 135 333 405 226 138 140]\n",
      " [ 36 846  70  95 307  42 137 111]\n",
      " [ 18 218 336 118 177  23  70 100]\n",
      " [ 21 142  46 495 119  29  43  55]\n",
      " [ 25 191  35  65 375  24  64  42]\n",
      " [112 102  32 109 125 231  52  46]\n",
      " [ 26 124  28  60 106  28 261  38]\n",
      " [ 19  82  27  72  64  14  49 233]]\n",
      "--Class S--\n",
      "Precise: 0.777\n",
      "Most often confuses party: MP\n",
      "=============================\n",
      "--Class M--\n",
      "Precise: 0.384\n",
      "Most often confuses party: S\n",
      "=============================\n",
      "--Class SD--\n",
      "Precise: 0.474\n",
      "Most often confuses party: S\n",
      "=============================\n",
      "--Class V--\n",
      "Precise: 0.367\n",
      "Most often confuses party: S\n",
      "=============================\n",
      "--Class KD--\n",
      "Precise: 0.223\n",
      "Most often confuses party: S\n",
      "=============================\n",
      "--Class MP--\n",
      "Precise: 0.374\n",
      "Most often confuses party: S\n",
      "=============================\n",
      "--Class C--\n",
      "Precise: 0.321\n",
      "Most often confuses party: S\n",
      "=============================\n",
      "--Class L--\n",
      "Precise: 0.305\n",
      "Most often confuses party: S\n",
      "=============================\n"
     ]
    }
   ],
   "source": [
    "from sklearn.metrics import confusion_matrix\n",
    "\n",
    "# TODO: Write code here to solve Problem 5\n",
    "labels = test_count.index\n",
    "# print (labels)\n",
    "con_matrix = confusion_matrix(test_data[\"party\"], test_predicted, \n",
    "                              labels = labels)\n",
    "print (con_matrix)\n",
    "column = con_matrix.shape[1]\n",
    "for i in range(column):\n",
    "    print (\"--Class\", labels[i] + \"--\")\n",
    "    print (\"Precise:\", round(con_matrix[i, i]/sum(con_matrix[:, i]), 3))\n",
    "    max_value_index = np.argmax(con_matrix[np.setdiff1d(np.arange(column), i), i])\n",
    "    if i < max_value_index:\n",
    "        max_value_index += 1\n",
    "    print (\"Most often confuses party:\", labels[max_value_index])\n",
    "    print (\"=============================\")"
   ]
  },
  {
   "cell_type": "markdown",
   "metadata": {},
   "source": [
    "## Problem 6: Grid search"
   ]
  },
  {
   "cell_type": "markdown",
   "metadata": {},
   "source": [
    "Until now, you have been using the vectorizer and the Naive Bayes classifier with their default hyperparameters. When working with real-world applications, you would want to find settings for the hyperparameters that maximize the performance for the task at hand.\n",
    "\n",
    "Manually tweaking the hyperparameters of the various components of a vectorizer–classifier pipeline can be cumbersome. However, scikit-learn makes it possible to run an exhaustive search for the best hyperparameters over a grid of possible values. This method is known as **grid search**.\n",
    "\n",
    "The hyperparameters of a pipeline should never be tuned on the final test set. (Why would that be a bad idea?) Instead, one should either use a separate validation set, or run cross-validation over different folds. Here we will use cross-validation.\n",
    "\n",
    "Implement a grid search with 5-fold cross-validation to find the optimal parameters in a grid defined by the following choices for the hyperparameters:\n",
    "\n",
    "* In the vectorizer, try a set-of-words model instead of the default bag-of-words model (two possible parameter values).\n",
    "* Also in the vectorizer, try extracting $n$-grams up to $n = 2$ (two possible parameter values).\n",
    "* In the Naive Bayes classifier, try using additive smoothing with $\\alpha \\in \\{1, 0{.}1\\}$ (two possible parameter values).\n",
    "\n",
    "Use the class [GridSearchCV](https://scikit-learn.org/stable/modules/generated/sklearn.model_selection.GridSearchCV.html) from the scikit-learn library. Print the results of your best model, along with the parameter values that yielded these results."
   ]
  },
  {
   "cell_type": "code",
   "execution_count": 13,
   "metadata": {},
   "outputs": [
    {
     "name": "stdout",
     "output_type": "stream",
     "text": [
      "Fitting 5 folds for each of 18 candidates, totalling 90 fits\n"
     ]
    },
    {
     "name": "stderr",
     "output_type": "stream",
     "text": [
      "[Parallel(n_jobs=-1)]: Using backend LokyBackend with 4 concurrent workers.\n",
      "[Parallel(n_jobs=-1)]: Done  10 tasks      | elapsed:  1.1min\n",
      "[Parallel(n_jobs=-1)]: Done  64 tasks      | elapsed:  5.0min\n",
      "[Parallel(n_jobs=-1)]: Done  90 out of  90 | elapsed:  7.5min finished\n"
     ]
    },
    {
     "name": "stdout",
     "output_type": "stream",
     "text": [
      "              precision    recall  f1-score   support\n",
      "\n",
      "           C       1.00      0.47      0.64       865\n",
      "          KD       1.00      0.38      0.55       743\n",
      "           L       1.00      0.39      0.56       719\n",
      "           M       0.84      0.93      0.89      2370\n",
      "          MP       0.96      0.71      0.82      1481\n",
      "           S       0.66      1.00      0.79      4261\n",
      "          SD       1.00      0.65      0.79      1010\n",
      "           V       1.00      0.60      0.75       894\n",
      "\n",
      "    accuracy                           0.78     12343\n",
      "   macro avg       0.93      0.64      0.72     12343\n",
      "weighted avg       0.85      0.78      0.77     12343\n",
      "\n",
      "              precision    recall  f1-score   support\n",
      "\n",
      "           C       1.00      0.01      0.01       671\n",
      "          KD       1.00      0.00      0.00       821\n",
      "           L       1.00      0.01      0.01       560\n",
      "           M       0.42      0.42      0.42      1644\n",
      "          MP       0.43      0.13      0.20       809\n",
      "           S       0.36      0.95      0.53      2773\n",
      "          SD       0.84      0.04      0.07      1060\n",
      "           V       0.65      0.04      0.07       950\n",
      "\n",
      "    accuracy                           0.38      9288\n",
      "   macro avg       0.71      0.20      0.16      9288\n",
      "weighted avg       0.60      0.38      0.27      9288\n",
      "\n",
      "best parameters: {'cls__alpha': 0.1, 'vec__binary': True, 'vec__ngram_range': (1, 1)}\n"
     ]
    }
   ],
   "source": [
    "from sklearn.model_selection import GridSearchCV\n",
    "\n",
    "# TODO: Write code here to implement the grid search\n",
    "pipeline = Pipeline([\n",
    "    ('vec', TfidfVectorizer()),\n",
    "    ('cls', MultinomialNB()),\n",
    "])\n",
    "\n",
    "para = {\n",
    "    'vec__binary': (True, False),\n",
    "    'vec__ngram_range': ((1, 1), (1, 2), (2, 2)),\n",
    "    'cls__alpha': (0.1, 0.5, 1.0),\n",
    "}\n",
    "\n",
    "grid = GridSearchCV(pipeline, para, cv=5, iid=False, verbose=5, n_jobs=-1)\n",
    "grid.fit(training_data[\"words\"], training_data[\"party\"])\n",
    "print(classification_report(training_data[\"party\"], grid.predict(training_data[\"words\"]), parties))\n",
    "print(classification_report(test_data[\"party\"], grid.predict(test_data[\"words\"]), parties))\n",
    "\n",
    "print(\"best parameters:\", grid.best_params_)"
   ]
  },
  {
   "cell_type": "markdown",
   "metadata": {},
   "source": [
    "## Problem 6: Try to improve your results"
   ]
  },
  {
   "cell_type": "markdown",
   "metadata": {},
   "source": [
    "Scikit-learn makes it easy to test different vectorizer–classifier pipelines – among other things, it includes different types of logistic regression classifiers, support vector machines, and decision trees. Browse the library to see which methods are supported.\n",
    "\n",
    "Build a pipeline that you find interesting, and use grid search to find optimal settings for the hyperparameters. Print the results of your best model. Did you manage to get better results than the ones that you obtained in Problem&nbsp;5? Answer with a short text."
   ]
  },
  {
   "cell_type": "code",
   "execution_count": 14,
   "metadata": {},
   "outputs": [
    {
     "name": "stdout",
     "output_type": "stream",
     "text": [
      "Fitting 5 folds for each of 6 candidates, totalling 30 fits\n"
     ]
    },
    {
     "name": "stderr",
     "output_type": "stream",
     "text": [
      "[Parallel(n_jobs=-1)]: Using backend LokyBackend with 4 concurrent workers.\n",
      "[Parallel(n_jobs=-1)]: Done  10 tasks      | elapsed: 12.1min\n",
      "[Parallel(n_jobs=-1)]: Done  30 out of  30 | elapsed: 35.3min remaining:    0.0s\n",
      "[Parallel(n_jobs=-1)]: Done  30 out of  30 | elapsed: 35.3min finished\n"
     ]
    },
    {
     "data": {
      "text/plain": [
       "GridSearchCV(cv=5, error_score='raise-deprecating',\n",
       "             estimator=Pipeline(memory=None,\n",
       "                                steps=[('vec',\n",
       "                                        TfidfVectorizer(analyzer='word',\n",
       "                                                        binary=False,\n",
       "                                                        decode_error='strict',\n",
       "                                                        dtype=<class 'numpy.float64'>,\n",
       "                                                        encoding='utf-8',\n",
       "                                                        input='content',\n",
       "                                                        lowercase=True,\n",
       "                                                        max_df=1.0,\n",
       "                                                        max_features=None,\n",
       "                                                        min_df=1,\n",
       "                                                        ngram_range=(1, 1),\n",
       "                                                        norm='l2',\n",
       "                                                        preprocessor=None,\n",
       "                                                        smooth_idf=True,\n",
       "                                                        stop_words=...\n",
       "                                                           intercept_scaling=1,\n",
       "                                                           l1_ratio=None,\n",
       "                                                           max_iter=1000,\n",
       "                                                           multi_class='auto',\n",
       "                                                           n_jobs=None,\n",
       "                                                           penalty='l2',\n",
       "                                                           random_state=None,\n",
       "                                                           solver='lbfgs',\n",
       "                                                           tol=0.0001,\n",
       "                                                           verbose=0,\n",
       "                                                           warm_start=False))],\n",
       "                                verbose=False),\n",
       "             iid=False, n_jobs=-1,\n",
       "             param_grid={'vec__binary': (True, False),\n",
       "                         'vec__ngram_range': ((1, 1), (1, 2), (2, 2))},\n",
       "             pre_dispatch='2*n_jobs', refit=True, return_train_score=False,\n",
       "             scoring=None, verbose=5)"
      ]
     },
     "execution_count": 14,
     "metadata": {},
     "output_type": "execute_result"
    }
   ],
   "source": [
    "# TODO: Write code here to search for a better model\n",
    "from sklearn.linear_model import LogisticRegression\n",
    "\n",
    "lr_pipeline = Pipeline([\n",
    "    ('vec', TfidfVectorizer()),\n",
    "    ('cls', LogisticRegression(solver='lbfgs', multi_class='auto', max_iter=1000)),\n",
    "])\n",
    "\n",
    "para = {\n",
    "    'vec__binary': (True, False),\n",
    "    'vec__ngram_range': ((1, 1), (1, 2), (2, 2)),\n",
    "}\n",
    "\n",
    "grid = GridSearchCV(lr_pipeline, para, cv=5, iid=False, verbose=5, n_jobs=-1)\n",
    "grid.fit(training_data[\"words\"], training_data[\"party\"])"
   ]
  },
  {
   "cell_type": "code",
   "execution_count": 15,
   "metadata": {},
   "outputs": [
    {
     "name": "stdout",
     "output_type": "stream",
     "text": [
      "              precision    recall  f1-score   support\n",
      "\n",
      "           C       0.99      0.61      0.75       865\n",
      "          KD       0.99      0.56      0.72       743\n",
      "           L       0.99      0.61      0.76       719\n",
      "           M       0.79      0.93      0.85      2370\n",
      "          MP       0.95      0.74      0.83      1481\n",
      "           S       0.77      0.99      0.87      4261\n",
      "          SD       0.97      0.81      0.88      1010\n",
      "           V       0.95      0.76      0.84       894\n",
      "\n",
      "    accuracy                           0.84     12343\n",
      "   macro avg       0.93      0.75      0.81     12343\n",
      "weighted avg       0.87      0.84      0.84     12343\n",
      "\n",
      "              precision    recall  f1-score   support\n",
      "\n",
      "           C       0.65      0.18      0.29       671\n",
      "          KD       0.80      0.09      0.17       821\n",
      "           L       0.60      0.12      0.20       560\n",
      "           M       0.44      0.57      0.49      1644\n",
      "          MP       0.37      0.27      0.31       809\n",
      "           S       0.47      0.89      0.61      2773\n",
      "          SD       0.61      0.29      0.39      1060\n",
      "           V       0.67      0.23      0.34       950\n",
      "\n",
      "    accuracy                           0.48      9288\n",
      "   macro avg       0.57      0.33      0.35      9288\n",
      "weighted avg       0.54      0.48      0.42      9288\n",
      "\n",
      "best parameters: {'vec__binary': True, 'vec__ngram_range': (1, 1)}\n"
     ]
    }
   ],
   "source": [
    "print(classification_report(training_data[\"party\"], grid.predict(training_data[\"words\"]), parties))\n",
    "print(classification_report(test_data[\"party\"], grid.predict(test_data[\"words\"]), parties))\n",
    "\n",
    "print(\"best parameters:\", grid.best_params_)"
   ]
  },
  {
   "cell_type": "markdown",
   "metadata": {},
   "source": [
    "*TODO: Enter your answer here*"
   ]
  },
  {
   "cell_type": "markdown",
   "metadata": {},
   "source": [
    "<div class=\"alert alert-info\">\n",
    "    Please read the section ‘General information’ on the ‘Labs’ page of the course website before submitting this notebook!\n",
    "</div>"
   ]
  }
 ],
 "metadata": {
  "kernelspec": {
   "display_name": "Python 3",
   "language": "python",
   "name": "python3"
  },
  "language_info": {
   "codemirror_mode": {
    "name": "ipython",
    "version": 3
   },
   "file_extension": ".py",
   "mimetype": "text/x-python",
   "name": "python",
   "nbconvert_exporter": "python",
   "pygments_lexer": "ipython3",
   "version": "3.7.3"
  }
 },
 "nbformat": 4,
 "nbformat_minor": 2
}

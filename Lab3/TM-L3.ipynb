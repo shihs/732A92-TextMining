{
 "cells": [
  {
   "cell_type": "markdown",
   "metadata": {},
   "source": [
    "# L3: Text clustering and topic modelling"
   ]
  },
  {
   "cell_type": "markdown",
   "metadata": {},
   "source": [
    "Text clustering groups documents in such a way that documents within a group are more &lsquo;similar&rsquo; to other documents in the cluster than to documents not in the cluster. The exact definition of what &lsquo;similar&rsquo; means in this context varies across applications and clustering algorithms.\n",
    "\n",
    "In this lab you will experiment with both hard and soft clustering techniques. More specifically, in the first part you will be using the $k$-means algorithm, and in the second part you will be using a topic model based on the Latent Dirichlet Allocation (LDA)."
   ]
  },
  {
   "cell_type": "markdown",
   "metadata": {},
   "source": [
    "## Hard clustering data set"
   ]
  },
  {
   "cell_type": "markdown",
   "metadata": {},
   "source": [
    "The raw data for the hard clustering part of this lab is a collection of product reviews. We have preprocessed the data by tokenization and lowercasing."
   ]
  },
  {
   "cell_type": "code",
   "execution_count": 1,
   "metadata": {},
   "outputs": [],
   "source": [
    "import pandas as pd\n",
    "import bz2\n",
    "\n",
    "with bz2.open(\"reviews.json.bz2\") as source:\n",
    "    df = pd.read_json(source)"
   ]
  },
  {
   "cell_type": "markdown",
   "metadata": {},
   "source": [
    "When you inspect the data frame, you can see that there are three labelled columns: `category` (the product category), `sentiment` (whether the product review was classified as &lsquo;positive&rsquo; or &lsquo;negative&rsquo; towards the product), and `text` (the space-separated text of the review)."
   ]
  },
  {
   "cell_type": "code",
   "execution_count": 2,
   "metadata": {},
   "outputs": [
    {
     "data": {
      "text/html": [
       "<div>\n",
       "<style scoped>\n",
       "    .dataframe tbody tr th:only-of-type {\n",
       "        vertical-align: middle;\n",
       "    }\n",
       "\n",
       "    .dataframe tbody tr th {\n",
       "        vertical-align: top;\n",
       "    }\n",
       "\n",
       "    .dataframe thead th {\n",
       "        text-align: right;\n",
       "    }\n",
       "</style>\n",
       "<table border=\"1\" class=\"dataframe\">\n",
       "  <thead>\n",
       "    <tr style=\"text-align: right;\">\n",
       "      <th></th>\n",
       "      <th>category</th>\n",
       "      <th>sentiment</th>\n",
       "      <th>text</th>\n",
       "    </tr>\n",
       "  </thead>\n",
       "  <tbody>\n",
       "    <tr>\n",
       "      <th>0</th>\n",
       "      <td>music</td>\n",
       "      <td>neg</td>\n",
       "      <td>i bought this album because i loved the title ...</td>\n",
       "    </tr>\n",
       "    <tr>\n",
       "      <th>1</th>\n",
       "      <td>music</td>\n",
       "      <td>neg</td>\n",
       "      <td>i was misled and thought i was buying the enti...</td>\n",
       "    </tr>\n",
       "    <tr>\n",
       "      <th>2</th>\n",
       "      <td>books</td>\n",
       "      <td>neg</td>\n",
       "      <td>i have introduced many of my ell , high school...</td>\n",
       "    </tr>\n",
       "    <tr>\n",
       "      <th>3</th>\n",
       "      <td>books</td>\n",
       "      <td>pos</td>\n",
       "      <td>anything you purchase in the left behind serie...</td>\n",
       "    </tr>\n",
       "    <tr>\n",
       "      <th>4</th>\n",
       "      <td>dvd</td>\n",
       "      <td>pos</td>\n",
       "      <td>i loved these movies , and i cant wiat for the...</td>\n",
       "    </tr>\n",
       "  </tbody>\n",
       "</table>\n",
       "</div>"
      ],
      "text/plain": [
       "  category sentiment                                               text\n",
       "0    music       neg  i bought this album because i loved the title ...\n",
       "1    music       neg  i was misled and thought i was buying the enti...\n",
       "2    books       neg  i have introduced many of my ell , high school...\n",
       "3    books       pos  anything you purchase in the left behind serie...\n",
       "4      dvd       pos  i loved these movies , and i cant wiat for the..."
      ]
     },
     "execution_count": 2,
     "metadata": {},
     "output_type": "execute_result"
    }
   ],
   "source": [
    "df.head()\n",
    "# df.shape"
   ]
  },
  {
   "cell_type": "markdown",
   "metadata": {},
   "source": [
    "## Problem 1: K-means clustering"
   ]
  },
  {
   "cell_type": "markdown",
   "metadata": {},
   "source": [
    "Your first task is to cluster the product review data using a tf–idf vectorizer and a $k$-means clusterer."
   ]
  },
  {
   "cell_type": "markdown",
   "metadata": {},
   "source": [
    "Start by doing the vectorization. In connection with vectorization, you should also filter out standard English stop words. While you could use [spaCy](https://spacy.io/) for this task, here it suffices to use the word list implemented in [TfidfVectorizer](https://scikit-learn.org/stable/modules/generated/sklearn.feature_extraction.text.TfidfVectorizer.html)."
   ]
  },
  {
   "cell_type": "code",
   "execution_count": 3,
   "metadata": {},
   "outputs": [],
   "source": [
    "# TODO: Enter code here to vectorize the data\n",
    "from sklearn.feature_extraction.text import TfidfVectorizer\n",
    "\n",
    "vectorizer = TfidfVectorizer(stop_words=\"english\")\n",
    "reviews = vectorizer.fit_transform(df[\"text\"])"
   ]
  },
  {
   "cell_type": "markdown",
   "metadata": {},
   "source": [
    "Test your vectorization by running the following code cell:"
   ]
  },
  {
   "cell_type": "code",
   "execution_count": 4,
   "metadata": {},
   "outputs": [
    {
     "data": {
      "text/plain": [
       "(11914, 46619)"
      ]
     },
     "execution_count": 4,
     "metadata": {},
     "output_type": "execute_result"
    }
   ],
   "source": [
    "# text:11914, 46619:entries\n",
    "reviews.shape"
   ]
  },
  {
   "cell_type": "markdown",
   "metadata": {},
   "source": [
    "If you used the English stop word list from scikit-learn, then the resulting vocabulary should have 46,619 entries."
   ]
  },
  {
   "cell_type": "markdown",
   "metadata": {},
   "source": [
    "Next, cluster the vectorized data. Before doing so, you should read the documentation of the [KMeans](https://scikit-learn.org/stable/modules/generated/sklearn.cluster.KMeans.html) class, which is scikit-learn&rsquo;s implementation of the $k$-means algorithm. As you can see, this class has several parameters that you can tweak. For now, the only parameter that you will have to set is the number of clusters. We recommend that you choose $k=3$.\n",
    "\n",
    "**Tip:** Training $k$-means models will take some time. To speed things up, you can use the `n_init` parameter to control the number of times that the clustering is re-computed with different initial values. The default value for this parameter is 10; here and in the rest of this lab, you may want to set this to a lower value."
   ]
  },
  {
   "cell_type": "code",
   "execution_count": 5,
   "metadata": {},
   "outputs": [],
   "source": [
    "# TODO: Enter code here to cluster the vectorized data\n",
    "from sklearn.cluster import KMeans\n",
    "seed = 4\n",
    "kmeans_3 = KMeans(n_clusters=3, n_jobs=-1, n_init = 1, random_state=seed).fit(reviews)"
   ]
  },
  {
   "cell_type": "markdown",
   "metadata": {},
   "source": [
    "To sanity-check your clustering, create a bar plot with the number of documents per cluster."
   ]
  },
  {
   "cell_type": "code",
   "execution_count": 6,
   "metadata": {},
   "outputs": [
    {
     "data": {
      "text/plain": [
       "<Figure size 640x480 with 1 Axes>"
      ]
     },
     "metadata": {},
     "output_type": "display_data"
    }
   ],
   "source": [
    "# TODO: Enter code here to produce a bar plot of the cluster size\n",
    "import collections\n",
    "import matplotlib.pyplot as plt\n",
    "\n",
    "clusters = kmeans_3.predict(reviews)\n",
    "count = collections.Counter(clusters)\n",
    "count_df = pd.DataFrame({\"count\":count})\n",
    "ax = count_df.plot.bar(color=[\"SkyBlue\"], rot=0, legend=False, \n",
    "                 title=\"Number of documents per cluster\")\n",
    "ax.set_xlabel(\"Cluster\")\n",
    "ax.set_ylabel(\"Count\")\n",
    "plt.show()"
   ]
  },
  {
   "cell_type": "markdown",
   "metadata": {},
   "source": [
    "Note that sizes may vary considerable between clusters and among different random seeds."
   ]
  },
  {
   "cell_type": "markdown",
   "metadata": {},
   "source": [
    "## Problem 2: Summarize clusters"
   ]
  },
  {
   "cell_type": "markdown",
   "metadata": {},
   "source": [
    "Once you have a clustering, you can try to see whether it is meaningful. One useful technique in that context is to generate a **summary** for each cluster by extracting the $n$ highest-weighted terms from the centroid of each cluster. Your next task is to implement this approach.\n",
    "\n",
    "**Hint:** You will need to construct an &lsquo;inverted vocabulary&rsquo; that allows you to map from the index of a term back to the original term."
   ]
  },
  {
   "cell_type": "code",
   "execution_count": 7,
   "metadata": {},
   "outputs": [],
   "source": [
    "# import numpy as np\n",
    "# x = np.array([6, 8, 5, 7])\n",
    "# print (x) # x \n",
    "# i = np.array(range(2))\n",
    "# print (i)\n",
    "# print (x[i])\n",
    "\n",
    "# print (x.argsort()) # x 排序後的 index, 由小到大\n",
    "# print (x.argsort()[::-1]) # x 排序後的 index, 由大到小\n",
    "\n",
    "### numpy.argsort()\n",
    "# print (np.argsort(x)[::-1])\n",
    "### two dimension\n",
    "# x = np.array([[6, 8, 5, 7], [9, 3, 7, 2]])\n",
    "# print (x)\n",
    "# print (np.argsort(x, axis=1)) # 依列排序"
   ]
  },
  {
   "cell_type": "code",
   "execution_count": 8,
   "metadata": {},
   "outputs": [
    {
     "name": "stdout",
     "output_type": "stream",
     "text": [
      "For cluster 0 :\n",
      "Terms: ['bought', 'like', 'hair', 'easy', 'time', 'good', 'work', 'just', 'used', 'program', 'great', 'does', 'software', 'use', 'product']\n",
      "For cluster 1 :\n",
      "Terms: ['love', 'really', 'songs', 'read', 'good', 'film', 'great', 'quot', 'music', 'just', 'cd', 'like', 'album', 'movie', 'book']\n",
      "For cluster 2 :\n",
      "Terms: ['zoom', 'picture', 'cameras', 'good', 'case', 'great', 'quality', 'battery', 'flash', 'use', 'digital', 'canon', 'pictures', 'lens', 'camera']\n"
     ]
    }
   ],
   "source": [
    "# TODO: Enter code here to compute the cluster summaries and print them\n",
    "import numpy as np\n",
    "terms_map = vectorizer.vocabulary_\n",
    "terms_map = {value: key for key, value in terms_map.items()}\n",
    "\n",
    "n = 15\n",
    "centriods = kmeans_3.cluster_centers_\n",
    "indxs = np.argsort(centriods, axis=1)[:, -n:]\n",
    "\n",
    "for i, idxs in enumerate(indxs):\n",
    "    print (\"For cluster\", i, \":\")\n",
    "    print (\"Terms:\", [terms_map[j] for j in idxs])"
   ]
  },
  {
   "cell_type": "code",
   "execution_count": 9,
   "metadata": {},
   "outputs": [
    {
     "name": "stdout",
     "output_type": "stream",
     "text": [
      "For 0 cluster: \n",
      "Terms: ['best', 'work', 'better', 'love', 'does', 'really', 'did', 'time', 'dvd', 'good', 'great', 'just', 'like', 'film', 'movie']\n",
      "For 1 cluster: \n",
      "Terms: ['life', 'really', 'great', 'did', 'good', 'written', 'just', 'quot', 'story', 'like', 'reading', 'author', 'books', 'read', 'book']\n",
      "For 2 cluster: \n",
      "Terms: ['works', 'bought', 'price', 'skin', 'good', 'shave', 'shaver', 'does', 'razor', 'great', 'used', 'easy', 'use', 'hair', 'product']\n",
      "For 3 cluster: \n",
      "Terms: ['norton', 'does', 'new', 'work', 'used', 'office', 'microsoft', 'product', 'windows', 'support', 'use', 'computer', 'version', 'program', 'software']\n",
      "For 4 cluster: \n",
      "Terms: ['albums', 'best', 'sound', 'listen', 'band', 'good', 'great', 'just', 'like', 'song', 'quot', 'songs', 'music', 'cd', 'album']\n",
      "For 5 cluster: \n",
      "Terms: ['sony', 'picture', 'cameras', 'good', 'case', 'great', 'quality', 'flash', 'battery', 'use', 'digital', 'canon', 'pictures', 'lens', 'camera']\n"
     ]
    }
   ],
   "source": [
    "kmeans_6 = KMeans(n_clusters=6, n_jobs=-1, n_init = 1, random_state=seed).fit(reviews)\n",
    "\n",
    "centriods = kmeans_6.cluster_centers_\n",
    "indxs = np.argsort(centriods, axis=1)[:, -n:]\n",
    "\n",
    "for i, idxs in enumerate(indxs):\n",
    "    print (\"For\", i, \"cluster: \")\n",
    "    print (\"Terms:\", [terms_map[j] for j in idxs])"
   ]
  },
  {
   "cell_type": "markdown",
   "metadata": {},
   "source": [
    "Once you have computed the cluster summaries, discuss their quality. Is it clear what the reviews in a given cluster are about? Which clusters are clearest? Which are less clear? Do the cluster summaries contain any unexpected terms? What happens if you re-cluster with, say, $k=6$?"
   ]
  },
  {
   "cell_type": "markdown",
   "metadata": {},
   "source": [
    "*TODO: Insert your analysis of the clusters here*"
   ]
  },
  {
   "cell_type": "markdown",
   "metadata": {},
   "source": [
    "## Problem 3: Tune the k-means algorithm"
   ]
  },
  {
   "cell_type": "markdown",
   "metadata": {},
   "source": [
    "A major limitation of the $k$-means algorithm is that one has to manually set the value for $k$, the number of clusters. One heuristic that can help you with this is the [Elbow method](https://en.wikipedia.org/wiki/Elbow_method_(clustering)). Your next task is to implement this method to see whether it allows you to find a better value for $k$.\n",
    "\n",
    "To follow the elbow method, you should plot different values of $k$ against the **inertia** (sums of squared distances between documents and closest centroids) of the fitted $k$-means model, and pick the $k$ at the &lsquo;elbow point&rsquo; of the resulting graph. Test cluster sizes between 1 and 9.\n",
    "\n",
    "**Note that this will take a while.**"
   ]
  },
  {
   "cell_type": "code",
   "execution_count": 10,
   "metadata": {},
   "outputs": [],
   "source": [
    "# https://ithelp.ithome.com.tw/articles/10187314\n",
    "# https://pythonprogramminglanguage.com/kmeans-elbow-method/\n",
    "# TODO: Enter code here to generate the plot for the elbow method\n",
    "\n",
    "import matplotlib.pyplot as plt\n",
    "\n",
    "inertias = []\n",
    "ks = range(1, 10)\n",
    "for k in ks:\n",
    "    kmeans_fit = KMeans(n_clusters=k, n_jobs=-1, n_init = 1, random_state=seed).fit(reviews)\n",
    "    inertias.append(kmeans_fit.inertia_)"
   ]
  },
  {
   "cell_type": "code",
   "execution_count": 11,
   "metadata": {},
   "outputs": [
    {
     "data": {
      "image/png": "[encoded data removed]",
      "text/plain": [
       "<Figure size 432x288 with 1 Axes>"
      ]
     },
     "metadata": {
      "needs_background": "light"
     },
     "output_type": "display_data"
    }
   ],
   "source": [
    "# Plot the elbow\n",
    "plt.plot(ks, inertias, 'bx-')\n",
    "plt.xlabel('$K$')\n",
    "plt.ylabel('Inertia')\n",
    "plt.title('KMeans inertia given $K$ clusters')\n",
    "plt.show()"
   ]
  },
  {
   "cell_type": "markdown",
   "metadata": {},
   "source": [
    "Once you have the diagram, can you see a pronounced &lsquo;elbow point&rsquo;? Discuss your findings in a short text."
   ]
  },
  {
   "cell_type": "markdown",
   "metadata": {},
   "source": [
    "*TODO: Insert your discussion of the elbow method here*"
   ]
  },
  {
   "cell_type": "markdown",
   "metadata": {},
   "source": [
    "## Problem 4: Compare clusterings using the Rand index"
   ]
  },
  {
   "cell_type": "markdown",
   "metadata": {},
   "source": [
    "In some scenarios, you may have gold-standard class labels available for at least a subset of your documents. In these cases you can compute the **Rand index** of a clustering, and use this measure to compare the quality of different clusterings.\n",
    "\n",
    "To compute the Rand index, we view a clustering as a binary classifier on pairs of documents. The classifier predicts &lsquo;positive&rsquo; if and only if the two documents belong to the same cluster. The (non-normalized) Rand index of the clustering is the accuracy of this classifier relative to a reference in which a document pair belongs to the &lsquo;positive&rsquo; class if and only if the two documents in the pair have the same gold-standard class label.\n",
    "\n",
    "Compare a clustering with $k=3$ clusters to a second clustering with $k=6$ clusters. As your evaluation data, use the first 500 documents from the original data set along with their gold-standard categories (from the `category` column). What do you observe? How do you interpret your observations? What arguments can you find against the Rand index as a measure for comparing clusterings?"
   ]
  },
  {
   "cell_type": "code",
   "execution_count": 12,
   "metadata": {},
   "outputs": [],
   "source": [
    "# TODO: Enter code here to compute the Rand indices for the two clusterings\n",
    "# 假設一個集合中有N篇文章\n",
    "# 一個集合中有N(N-1)/2個集合對\n",
    "# TP：同一類的文章被分到同一個簇\n",
    "# TN：不同類的文章被分到不同簇\n",
    "# FP：不同類的文章被分到同一個簇\n",
    "# FN：同一類的文章被分到不同簇\n",
    "# Rand Index度量的正確的百分比\n",
    "# RI = （TP+TN）/（TP+FP+FN+TN）\n",
    "\n",
    "# Helper function to get the co-ocurrence matrix of a vector of classes.\n",
    "def co_occurrence(labels):\n",
    "    \"\"\"Returns a co-ocurrence matrix of the elements of a vector. This matrix\n",
    "    will be a squared matrix which will contain a zero if the entry i (row) and entry\n",
    "    j (column) has the same class.\n",
    "    \n",
    "    Parameters\n",
    "    ----------\n",
    "    labels : np.array, shape = [n_samples]\n",
    "        Array that will contain n values and each value represents a class.\n",
    "        The classes are supossed to be zero indexed. Meaning that the first class\n",
    "        corresponds to the number 0, the second class to the number 1 and so on.\n",
    "    \n",
    "    Returns\n",
    "    -------\n",
    "    co_ocurrance : np.array\n",
    "        Co-ocurrance matrix of shape n * n\n",
    "    \"\"\"\n",
    "    # One hot encoding the labels.\n",
    "    n_classes = labels.max() + 1\n",
    "    ohe_labels = np.eye(n_classes)[labels]\n",
    "    \n",
    "    # Creating the co-ocurrence matrix.\n",
    "    co_ocurrence = ohe_labels @ ohe_labels.T\n",
    "    \n",
    "    return(co_ocurrence)\n",
    "\n",
    "\n",
    "# Helper function to calculate the Rand indx given some predictions and the ground\n",
    "# truth.\n",
    "def rand_index(y_true, y_pred):\n",
    "    \"\"\"Calculates the un-normalized Rand index between the ground truth and some clustering predictions.\n",
    "    \n",
    "    Parameters\n",
    "    ----------\n",
    "    y_true, y_pred : np.array, shape = [n_samples]\n",
    "        Array that will contain n values and each value represents a calss.\n",
    "        The classes are supposed to be zero indexed. Meaning that the first class\n",
    "        corresponds to the number 0, the second class to the number 1 and so on.\n",
    "        \n",
    "    Returns\n",
    "    -------\n",
    "    rand_index : float\n",
    "        Rand index between y_true and y_pred.\n",
    "    \"\"\"\n",
    "    y_true_co = co_occurrence(y_true)\n",
    "    y_pred_co = co_occurrence(y_pred)\n",
    "    \n",
    "    # Pairwise comparison of the co-occurrence matrix.\n",
    "    count_matrix = (y_true_co == y_pred_co)\n",
    "    \n",
    "    # Replacing the diagonal since we don't want to count\n",
    "    # whether the document i and document i are in the\n",
    "    # same cluster.\n",
    "    count_matrix = count_matrix.astype(np.float)\n",
    "    np.fill_diagonal(count_matrix, np.nan)\n",
    "    rand_idx = np.nanmean(count_matrix)\n",
    "\n",
    "    return(rand_idx)\n",
    "\n",
    "# labels_true = np.array([0, 0, 0, 1, 1, 1])\n",
    "# labels_pred = np.array([0, 0, 1, 1, 2, 2])\n",
    "\n",
    "# rand_index(labels_true, labels_pred)"
   ]
  },
  {
   "cell_type": "code",
   "execution_count": 13,
   "metadata": {},
   "outputs": [
    {
     "name": "stdout",
     "output_type": "stream",
     "text": [
      "Rand Index for K=3\n",
      "0.690629258517034 \n",
      "\n",
      "Rand Index for K=6\n",
      "0.7586292585170341\n"
     ]
    }
   ],
   "source": [
    "# Evaluation data.\n",
    "test_data = df[:500]\n",
    "\n",
    "# Ground truth labels and \"predictions\" (y_hat).\n",
    "y_true = test_data[\"category\"].astype(\"category\")\n",
    "y_true = y_true.cat.codes.values  # Gets the pandas codes (values) for each category.\n",
    "y_pred_3 = kmeans_3.predict(reviews[:500, :])\n",
    "y_pred_6 = kmeans_6.predict(reviews[:500, :])\n",
    "\n",
    "# Rand Index for  k=3 and k=6 KMeans.\n",
    "rand_index_k3 = rand_index(y_true, y_pred_3)\n",
    "rand_index_k6 = rand_index(y_true, y_pred_6)\n",
    "\n",
    "print(\"Rand Index for K=3\")\n",
    "print(rand_index_k3, \"\\n\")\n",
    "\n",
    "print(\"Rand Index for K=6\")\n",
    "print(rand_index_k6)"
   ]
  },
  {
   "cell_type": "markdown",
   "metadata": {},
   "source": [
    "*TODO: Insert your discussion of your results here*"
   ]
  },
  {
   "cell_type": "markdown",
   "metadata": {},
   "source": [
    "## Topic modelling data set"
   ]
  },
  {
   "cell_type": "markdown",
   "metadata": {},
   "source": [
    "The data set for the topic modelling part of this lab is the collection of all [State of the Union](https://en.wikipedia.org/wiki/State_of_the_Union) addresses from the years 1975–2000. These speeches come as a single text file with one sentence per line. The following code cell prints the first 5 lines from the data file:"
   ]
  },
  {
   "cell_type": "code",
   "execution_count": 14,
   "metadata": {},
   "outputs": [
    {
     "name": "stdout",
     "output_type": "stream",
     "text": [
      "mr speaker mr vice president members of the 94th congress and distinguished guests\n",
      "twenty six years ago a freshman congressman a young fellow with lots of idealism who was out to change the world stood before sam rayburn in the well of the house and solemnly swore to the same oath that all of you took yesterday an unforgettable experience and i congratulate you all\n",
      "two days later that same freshman stood at the back of this great chamber over there someplace as president truman all charged up by his single handed election victory reported as the constitution requires on the state of the union\n",
      "when the bipartisan applause stopped president truman said i am happy to report to this 81st congress that the state of the union is good our nation is better able than ever before to meet the needs of the american people and to give them their fair chance in the pursuit of happiness it is foremost among the nations of the world in the search for peace\n",
      "today that freshman member from michigan stands where mr truman stood and i must say to you that the state of the union is not good\n",
      "millions of americans are out of work\n"
     ]
    }
   ],
   "source": [
    "with open(\"sotu_1975_2000.txt\") as source:\n",
    "    for i, line in enumerate(source):\n",
    "        print(line.rstrip())\n",
    "        if i >= 5:\n",
    "            break"
   ]
  },
  {
   "cell_type": "markdown",
   "metadata": {},
   "source": [
    "## Problem 5: Train a topic model"
   ]
  },
  {
   "cell_type": "markdown",
   "metadata": {},
   "source": [
    "Your first task on the topic modelling data is to train an LDA model. For this task you will be using [spaCy](https://spacy.io/) and the [gensim](https://radimrehurek.com/gensim/) topic modelling library.\n",
    "\n",
    "Start by preprocessing the data using spaCy. Given that the data set for this problem is rather small, you do not have to exclude any components from the standard pipeline. Filter out stop words, non-alphabetic tokens, and tokens less than 3 characters in length. Store the documents as a nested list where the first level of nesting corresponds to the sentences and the second level corresponds to the tokens in each sentence."
   ]
  },
  {
   "cell_type": "code",
   "execution_count": 15,
   "metadata": {},
   "outputs": [],
   "source": [
    "# TODO: Replace the following lines with your own code for preprocessing the documents\n",
    "import spacy\n",
    "\n",
    "nlp = spacy.load(\"en_core_web_sm\") \n",
    "\n",
    "def preprocess(text):\n",
    "    doc = nlp(text)\n",
    "    return [token.text for token in doc if not token.is_stop and token.is_alpha and len(token) >= 3] \n",
    "\n",
    "\n",
    "with open(\"sotu_1975_2000.txt\") as source:\n",
    "    documents = [preprocess(line) for line in source]\n"
   ]
  },
  {
   "cell_type": "markdown",
   "metadata": {},
   "source": [
    "Test your preprocessing by running the following cell:"
   ]
  },
  {
   "cell_type": "code",
   "execution_count": 16,
   "metadata": {},
   "outputs": [
    {
     "data": {
      "text/plain": [
       "'reduce oil imports million barrels day end year million barrels day end'"
      ]
     },
     "execution_count": 16,
     "metadata": {},
     "output_type": "execute_result"
    }
   ],
   "source": [
    "\" \".join(documents[42])"
   ]
  },
  {
   "cell_type": "markdown",
   "metadata": {},
   "source": [
    "You should get the following output:"
   ]
  },
  {
   "cell_type": "raw",
   "metadata": {},
   "source": [
    "'reduce oil imports million barrels day end year million barrels day end'"
   ]
  },
  {
   "cell_type": "markdown",
   "metadata": {},
   "source": [
    "Once you have the list of documents, skim the section [Pre-process and vectorize the documents](https://radimrehurek.com/gensim/auto_examples/tutorials/run_lda.html#pre-process-and-vectorize-the-documents) of the gensim documentation to learn how to create the dictionary and the vectorized corpus representation required by gensim. (Note that you cannot use the standard scikit-learn pipeline in this case.) Then, write code to train an [LdaModel](https://radimrehurek.com/gensim/models/ldamodel.html) for $k=10$ topics, and using default values for all other parameters."
   ]
  },
  {
   "cell_type": "code",
   "execution_count": 17,
   "metadata": {},
   "outputs": [],
   "source": [
    "# TODO: Enter code here to train an LDA model\n",
    "from gensim.corpora import Dictionary\n",
    "\n",
    "# Create a dictionary representation of the documents.\n",
    "dictionary = Dictionary(documents)\n",
    "\n",
    "# Filter out words that occur less than 20 documents, or more than 50% of the documents.\n",
    "dictionary.filter_extremes(no_below=20, no_above=0.5)\n",
    "\n",
    "# Bag-of-words representation of the documents.\n",
    "corpus = [dictionary.doc2bow(doc) for doc in documents]"
   ]
  },
  {
   "cell_type": "code",
   "execution_count": 18,
   "metadata": {},
   "outputs": [],
   "source": [
    "# Train LDA model.\n",
    "\n",
    "from gensim.models import LdaModel\n",
    "\n",
    "temp = dictionary[0]  # This is only to \"load\" the dictionary.\n",
    "id2word = dictionary.id2token\n",
    "\n",
    "\n",
    "k = 10\n",
    "model = LdaModel(\n",
    "    corpus=corpus,\n",
    "    id2word=id2word,\n",
    "    num_topics=k,\n",
    "    random_state=seed\n",
    ")"
   ]
  },
  {
   "cell_type": "markdown",
   "metadata": {},
   "source": [
    "Once you have a trained model, run the following cell to print the topics:"
   ]
  },
  {
   "cell_type": "code",
   "execution_count": 19,
   "metadata": {},
   "outputs": [
    {
     "data": {
      "text/plain": [
       "[(0,\n",
       "  '0.021*\"years\" + 0.020*\"government\" + 0.016*\"new\" + 0.016*\"year\" + 0.014*\"federal\" + 0.012*\"people\" + 0.012*\"work\" + 0.011*\"economic\" + 0.010*\"american\" + 0.009*\"let\"'),\n",
       " (1,\n",
       "  '0.027*\"world\" + 0.021*\"nation\" + 0.020*\"new\" + 0.018*\"america\" + 0.015*\"people\" + 0.014*\"war\" + 0.013*\"year\" + 0.013*\"peace\" + 0.012*\"trade\" + 0.010*\"american\"'),\n",
       " (2,\n",
       "  '0.024*\"security\" + 0.018*\"people\" + 0.016*\"democracy\" + 0.014*\"let\" + 0.014*\"social\" + 0.014*\"american\" + 0.014*\"world\" + 0.012*\"peace\" + 0.011*\"freedom\" + 0.010*\"military\"'),\n",
       " (3,\n",
       "  '0.020*\"children\" + 0.017*\"families\" + 0.016*\"work\" + 0.014*\"health\" + 0.014*\"help\" + 0.012*\"welfare\" + 0.012*\"job\" + 0.011*\"federal\" + 0.011*\"drugs\" + 0.011*\"reform\"'),\n",
       " (4,\n",
       "  '0.022*\"children\" + 0.018*\"new\" + 0.016*\"work\" + 0.016*\"americans\" + 0.014*\"tonight\" + 0.014*\"year\" + 0.012*\"century\" + 0.012*\"world\" + 0.011*\"need\" + 0.011*\"congress\"'),\n",
       " (5,\n",
       "  '0.033*\"america\" + 0.025*\"people\" + 0.020*\"government\" + 0.017*\"world\" + 0.015*\"year\" + 0.012*\"years\" + 0.011*\"work\" + 0.010*\"peace\" + 0.010*\"new\" + 0.008*\"americans\"'),\n",
       " (6,\n",
       "  '0.032*\"new\" + 0.023*\"america\" + 0.022*\"crime\" + 0.019*\"know\" + 0.013*\"ask\" + 0.013*\"years\" + 0.012*\"right\" + 0.010*\"today\" + 0.010*\"bill\" + 0.010*\"community\"'),\n",
       " (7,\n",
       "  '0.021*\"congress\" + 0.021*\"children\" + 0.017*\"school\" + 0.016*\"america\" + 0.015*\"year\" + 0.015*\"care\" + 0.013*\"child\" + 0.012*\"tax\" + 0.012*\"americans\" + 0.012*\"time\"'),\n",
       " (8,\n",
       "  '0.032*\"people\" + 0.020*\"americans\" + 0.019*\"work\" + 0.016*\"years\" + 0.016*\"congress\" + 0.012*\"american\" + 0.011*\"year\" + 0.011*\"country\" + 0.011*\"new\" + 0.010*\"economy\"'),\n",
       " (9,\n",
       "  '0.026*\"budget\" + 0.024*\"america\" + 0.021*\"years\" + 0.017*\"century\" + 0.015*\"security\" + 0.012*\"work\" + 0.012*\"social\" + 0.012*\"support\" + 0.011*\"american\" + 0.010*\"year\"')]"
      ]
     },
     "execution_count": 19,
     "metadata": {},
     "output_type": "execute_result"
    }
   ],
   "source": [
    "model.print_topics()"
   ]
  },
  {
   "cell_type": "markdown",
   "metadata": {},
   "source": [
    "Inspect the topics. Do they make sense? Can you &lsquo;label&rsquo; each topic with a short description of what it is about? Do the topics contain any unexpected terms? Summarize your discussion in a short text."
   ]
  },
  {
   "cell_type": "markdown",
   "metadata": {},
   "source": [
    "*TODO: Insert your discussion of the topics here*"
   ]
  },
  {
   "cell_type": "markdown",
   "metadata": {},
   "source": [
    "## Problem 6: Monitoring a topic model for convergence"
   ]
  },
  {
   "cell_type": "markdown",
   "metadata": {},
   "source": [
    "When learning an LDA model, it is important to make sure that the training algorithm has converged to a stable posterior distribution. One way to do so is to plot, after each training epochs(or &lsquo;pass&rsquo;, in gensim parlance) the log likelihood of the training data under the posterior. Your last task in this lab is to create such a plot and, based on this, to suggest an appropriate number of epochs.\n",
    "\n",
    "To collect information about the posterior likelihood after each pass, we need to enable the logging facilities of gensim. Once this is done, gensim will add various diagnostics to a log file `gensim.log`."
   ]
  },
  {
   "cell_type": "code",
   "execution_count": 20,
   "metadata": {},
   "outputs": [],
   "source": [
    "import logging\n",
    "\n",
    "logging.basicConfig(filename=\"gensim.log\", format=\"%(asctime)s:%(levelname)s:%(message)s\", level=logging.INFO)"
   ]
  },
  {
   "cell_type": "markdown",
   "metadata": {},
   "source": [
    "The following function will parse the generated logfile and return the list of log likelihoods."
   ]
  },
  {
   "cell_type": "code",
   "execution_count": 21,
   "metadata": {},
   "outputs": [],
   "source": [
    "import re\n",
    "\n",
    "def parse_logfile():\n",
    "    matcher = re.compile(\"(-*\\d+\\.\\d+) per-word .* (\\d+\\.\\d+) perplexity\")\n",
    "    likelihoods = []\n",
    "    with open(\"gensim.log\") as source:\n",
    "        for line in source:\n",
    "            match = matcher.search(line)\n",
    "            if match:\n",
    "                likelihoods.append(float(match.group(1)))\n",
    "    return likelihoods"
   ]
  },
  {
   "cell_type": "markdown",
   "metadata": {},
   "source": [
    "Your task now is to re-train your LDA model for 50&nbsp;passes, retrieve the list of log likelihoods, and create a plot from this data."
   ]
  },
  {
   "cell_type": "code",
   "execution_count": 22,
   "metadata": {},
   "outputs": [],
   "source": [
    "# TODO: Enter code here to generate the convergence plot\n",
    "\n",
    "passes = 50\n",
    "model = LdaModel(\n",
    "    corpus=corpus,\n",
    "    id2word=id2word,\n",
    "    num_topics=k,\n",
    "    random_state=seed,\n",
    "    passes=passes\n",
    ")"
   ]
  },
  {
   "cell_type": "code",
   "execution_count": 23,
   "metadata": {},
   "outputs": [
    {
     "data": {
      "image/png": "[encoded data removed]",
      "text/plain": [
       "<Figure size 432x288 with 1 Axes>"
      ]
     },
     "metadata": {
      "needs_background": "light"
     },
     "output_type": "display_data"
    }
   ],
   "source": [
    "log_likelihoods = parse_logfile()\n",
    "plt.plot(range(len(log_likelihoods)), log_likelihoods, 'bx-')\n",
    "plt.xlabel('Epoch')\n",
    "plt.ylabel('Log Likelihood')\n",
    "plt.title('Model Loglikelihood')\n",
    "plt.show()"
   ]
  },
  {
   "cell_type": "code",
   "execution_count": 24,
   "metadata": {},
   "outputs": [
    {
     "data": {
      "text/plain": [
       "[(0,\n",
       "  '0.031*\"federal\" + 0.029*\"government\" + 0.018*\"new\" + 0.018*\"energy\" + 0.017*\"programs\" + 0.016*\"administration\" + 0.016*\"economic\" + 0.013*\"years\" + 0.013*\"congress\" + 0.012*\"program\"'),\n",
       " (1,\n",
       "  '0.053*\"world\" + 0.031*\"trade\" + 0.025*\"war\" + 0.023*\"nation\" + 0.020*\"new\" + 0.017*\"america\" + 0.015*\"nuclear\" + 0.015*\"nations\" + 0.014*\"global\" + 0.014*\"international\"'),\n",
       " (2,\n",
       "  '0.028*\"peace\" + 0.023*\"soviet\" + 0.022*\"security\" + 0.019*\"world\" + 0.019*\"states\" + 0.017*\"military\" + 0.016*\"united\" + 0.016*\"forces\" + 0.015*\"nations\" + 0.015*\"nuclear\"'),\n",
       " (3,\n",
       "  '0.064*\"health\" + 0.051*\"care\" + 0.050*\"welfare\" + 0.040*\"work\" + 0.036*\"reform\" + 0.022*\"insurance\" + 0.021*\"medicare\" + 0.019*\"system\" + 0.017*\"rights\" + 0.015*\"child\"'),\n",
       " (4,\n",
       "  '0.032*\"children\" + 0.029*\"century\" + 0.026*\"america\" + 0.019*\"tonight\" + 0.019*\"new\" + 0.019*\"americans\" + 0.018*\"american\" + 0.018*\"work\" + 0.018*\"education\" + 0.018*\"challenge\"'),\n",
       " (5,\n",
       "  '0.051*\"america\" + 0.027*\"world\" + 0.024*\"people\" + 0.019*\"time\" + 0.018*\"great\" + 0.018*\"years\" + 0.018*\"government\" + 0.017*\"new\" + 0.017*\"freedom\" + 0.017*\"nation\"'),\n",
       " (6,\n",
       "  '0.033*\"new\" + 0.033*\"crime\" + 0.027*\"community\" + 0.026*\"right\" + 0.025*\"communities\" + 0.023*\"help\" + 0.023*\"schools\" + 0.019*\"national\" + 0.017*\"teachers\" + 0.015*\"start\"'),\n",
       " (7,\n",
       "  '0.041*\"congress\" + 0.032*\"tax\" + 0.027*\"year\" + 0.023*\"family\" + 0.022*\"children\" + 0.020*\"school\" + 0.020*\"president\" + 0.018*\"families\" + 0.018*\"ask\" + 0.015*\"thank\"'),\n",
       " (8,\n",
       "  '0.065*\"people\" + 0.032*\"know\" + 0.029*\"work\" + 0.027*\"american\" + 0.026*\"let\" + 0.024*\"americans\" + 0.021*\"year\" + 0.020*\"working\" + 0.019*\"hard\" + 0.018*\"years\"'),\n",
       " (9,\n",
       "  '0.080*\"budget\" + 0.044*\"security\" + 0.041*\"social\" + 0.038*\"years\" + 0.032*\"spending\" + 0.025*\"year\" + 0.025*\"deficit\" + 0.023*\"percent\" + 0.021*\"billion\" + 0.020*\"cut\"')]"
      ]
     },
     "execution_count": 24,
     "metadata": {},
     "output_type": "execute_result"
    }
   ],
   "source": [
    "model.print_topics()"
   ]
  },
  {
   "cell_type": "markdown",
   "metadata": {},
   "source": [
    "How do you interpret your plot? What would be a reasonable choice for the number of passes? Retrain your LDA model with that number and re-inspect the topics it finds. Do you consider the new topics to be &lsquo;better&rsquo; than the ones that you got from the 1-pass model in Problem&nbsp;5?"
   ]
  },
  {
   "cell_type": "markdown",
   "metadata": {},
   "source": [
    "*TODO: Insert your discussion of these questions here*"
   ]
  },
  {
   "cell_type": "markdown",
   "metadata": {},
   "source": [
    "<div class=\"alert alert-info\">\n",
    "    Please read the section ‘General information’ on the ‘Labs’ page of the course website before submitting this notebook!\n",
    "</div>"
   ]
  }
 ],
 "metadata": {
  "kernelspec": {
   "display_name": "Python 3",
   "language": "python",
   "name": "python3"
  },
  "language_info": {
   "codemirror_mode": {
    "name": "ipython",
    "version": 3
   },
   "file_extension": ".py",
   "mimetype": "text/x-python",
   "name": "python",
   "nbconvert_exporter": "python",
   "pygments_lexer": "ipython3",
   "version": "3.7.3"
  }
 },
 "nbformat": 4,
 "nbformat_minor": 2
}
